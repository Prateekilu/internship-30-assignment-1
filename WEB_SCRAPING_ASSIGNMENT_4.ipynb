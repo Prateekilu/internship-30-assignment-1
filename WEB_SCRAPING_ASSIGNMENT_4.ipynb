{
 "cells": [
  {
   "cell_type": "markdown",
   "id": "f4ed86be",
   "metadata": {},
   "source": [
    "# Ques 1 Scrape the details of most viewed videos on YouTube from Wikipedia"
   ]
  },
  {
   "cell_type": "code",
   "execution_count": 30,
   "id": "e9c17b3c",
   "metadata": {},
   "outputs": [
    {
     "name": "stdout",
     "output_type": "stream",
     "text": [
      "Requirement already satisfied: bs4 in c:\\users\\hp\\anaconda3\\lib\\site-packages (0.0.1)\n",
      "Requirement already satisfied: beautifulsoup4 in c:\\users\\hp\\anaconda3\\lib\\site-packages (from bs4) (4.10.0)\n",
      "Requirement already satisfied: soupsieve>1.2 in c:\\users\\hp\\anaconda3\\lib\\site-packages (from beautifulsoup4->bs4) (2.2.1)\n",
      "Requirement already satisfied: requests in c:\\users\\hp\\anaconda3\\lib\\site-packages (2.26.0)\n",
      "Requirement already satisfied: certifi>=2017.4.17 in c:\\users\\hp\\anaconda3\\lib\\site-packages (from requests) (2021.10.8)\n",
      "Requirement already satisfied: urllib3<1.27,>=1.21.1 in c:\\users\\hp\\anaconda3\\lib\\site-packages (from requests) (1.26.7)\n",
      "Requirement already satisfied: idna<4,>=2.5 in c:\\users\\hp\\anaconda3\\lib\\site-packages (from requests) (3.2)\n",
      "Requirement already satisfied: charset-normalizer~=2.0.0 in c:\\users\\hp\\anaconda3\\lib\\site-packages (from requests) (2.0.4)\n",
      "Requirement already satisfied: selenium in c:\\users\\hp\\anaconda3\\lib\\site-packages (4.4.0)\n",
      "Requirement already satisfied: urllib3[secure,socks]~=1.26 in c:\\users\\hp\\anaconda3\\lib\\site-packages (from selenium) (1.26.7)\n",
      "Requirement already satisfied: trio~=0.17 in c:\\users\\hp\\anaconda3\\lib\\site-packages (from selenium) (0.21.0)\n",
      "Requirement already satisfied: trio-websocket~=0.9 in c:\\users\\hp\\anaconda3\\lib\\site-packages (from selenium) (0.9.2)\n",
      "Requirement already satisfied: attrs>=19.2.0 in c:\\users\\hp\\anaconda3\\lib\\site-packages (from trio~=0.17->selenium) (21.2.0)\n",
      "Requirement already satisfied: idna in c:\\users\\hp\\anaconda3\\lib\\site-packages (from trio~=0.17->selenium) (3.2)\n",
      "Requirement already satisfied: async-generator>=1.9 in c:\\users\\hp\\anaconda3\\lib\\site-packages (from trio~=0.17->selenium) (1.10)\n",
      "Requirement already satisfied: sniffio in c:\\users\\hp\\anaconda3\\lib\\site-packages (from trio~=0.17->selenium) (1.2.0)\n",
      "Requirement already satisfied: outcome in c:\\users\\hp\\anaconda3\\lib\\site-packages (from trio~=0.17->selenium) (1.2.0)\n",
      "Requirement already satisfied: sortedcontainers in c:\\users\\hp\\anaconda3\\lib\\site-packages (from trio~=0.17->selenium) (2.4.0)\n",
      "Requirement already satisfied: cffi>=1.14 in c:\\users\\hp\\anaconda3\\lib\\site-packages (from trio~=0.17->selenium) (1.14.6)\n",
      "Requirement already satisfied: pycparser in c:\\users\\hp\\anaconda3\\lib\\site-packages (from cffi>=1.14->trio~=0.17->selenium) (2.20)\n",
      "Requirement already satisfied: wsproto>=0.14 in c:\\users\\hp\\anaconda3\\lib\\site-packages (from trio-websocket~=0.9->selenium) (1.1.0)\n",
      "Requirement already satisfied: pyOpenSSL>=0.14 in c:\\users\\hp\\anaconda3\\lib\\site-packages (from urllib3[secure,socks]~=1.26->selenium) (21.0.0)\n",
      "Requirement already satisfied: cryptography>=1.3.4 in c:\\users\\hp\\anaconda3\\lib\\site-packages (from urllib3[secure,socks]~=1.26->selenium) (3.4.8)\n",
      "Requirement already satisfied: certifi in c:\\users\\hp\\anaconda3\\lib\\site-packages (from urllib3[secure,socks]~=1.26->selenium) (2021.10.8)\n",
      "Requirement already satisfied: PySocks!=1.5.7,<2.0,>=1.5.6 in c:\\users\\hp\\anaconda3\\lib\\site-packages (from urllib3[secure,socks]~=1.26->selenium) (1.7.1)\n",
      "Requirement already satisfied: six>=1.5.2 in c:\\users\\hp\\anaconda3\\lib\\site-packages (from pyOpenSSL>=0.14->urllib3[secure,socks]~=1.26->selenium) (1.16.0)\n",
      "Requirement already satisfied: h11<1,>=0.9.0 in c:\\users\\hp\\anaconda3\\lib\\site-packages (from wsproto>=0.14->trio-websocket~=0.9->selenium) (0.13.0)\n"
     ]
    }
   ],
   "source": [
    "!pip install bs4\n",
    "!pip install requests\n",
    "!pip install selenium"
   ]
  },
  {
   "cell_type": "code",
   "execution_count": 31,
   "id": "8b069c56",
   "metadata": {},
   "outputs": [],
   "source": [
    "import selenium\n",
    "import pandas as pd\n",
    "from selenium import webdriver\n",
    "import warnings\n",
    "warnings.filterwarnings('ignore')\n",
    "from selenium.common.exceptions import StaleElementReferenceException, NoSuchElementException\n",
    "from selenium.webdriver.common.by import By\n",
    "import time\n",
    "from bs4 import BeautifulSoup\n",
    "import requests"
   ]
  },
  {
   "cell_type": "code",
   "execution_count": 37,
   "id": "37e66f1f",
   "metadata": {},
   "outputs": [
    {
     "name": "stdout",
     "output_type": "stream",
     "text": [
      "200\n"
     ]
    }
   ],
   "source": [
    "wikiurl=\"https://en.wikipedia.org/wiki/List_of_most-viewed_YouTube_videos\"\n",
    "table_class=\"wikitable sortable jquery-tablesorter\"\n",
    "response=requests.get(wikiurl)\n",
    "print(response.status_code)"
   ]
  },
  {
   "cell_type": "code",
   "execution_count": 46,
   "id": "85a257b1",
   "metadata": {},
   "outputs": [],
   "source": [
    "soup = BeautifulSoup(response.text, 'html.parser')\n",
    "indiatable=soup.find('table',{'class':\"wikitable\"})"
   ]
  },
  {
   "cell_type": "code",
   "execution_count": 50,
   "id": "693b7aad",
   "metadata": {
    "scrolled": true
   },
   "outputs": [
    {
     "name": "stdout",
     "output_type": "stream",
     "text": [
      "                        No.                                       Video name  \\\n",
      "0                        1.                            \"Baby Shark Dance\"[3]   \n",
      "1                        2.                                   \"Despacito\"[6]   \n",
      "2                        3.                       \"Johny Johny Yes Papa\"[12]   \n",
      "3                        4.                               \"Shape of You\"[13]   \n",
      "4                        5.                              \"See You Again\"[15]   \n",
      "5                        6.                                  \"Bath Song\"[20]   \n",
      "6                        7.                \"Phonics Song with Two Words\"[21]   \n",
      "7                        8.                                \"Uptown Funk\"[22]   \n",
      "8                        9.  \"Learning Colors – Colorful Eggs on a Farm\"[23]   \n",
      "9                       10.                              \"Gangnam Style\"[24]   \n",
      "10                      11.   \"Masha and the Bear – Recipe for Disaster\"[29]   \n",
      "11                      12.                          \"Wheels on the Bus\"[30]   \n",
      "12                      13.                             \"Dame Tu Cosita\"[31]   \n",
      "13                      14.                                      \"Sugar\"[32]   \n",
      "14                      15.                                       \"Roar\"[33]   \n",
      "15                      16.                             \"Counting Stars\"[34]   \n",
      "16                      17.                                      \"Sorry\"[35]   \n",
      "17                      18.                                     \"Axel F\"[36]   \n",
      "18                      18.                          \"Thinking Out Loud\"[37]   \n",
      "19                      20.                        \"Baa Baa Black Sheep\"[38]   \n",
      "20                      21.                                 \"Dark Horse\"[39]   \n",
      "21                      22.                                      \"Faded\"[40]   \n",
      "22                      23.                             \"Girls Like You\"[41]   \n",
      "23                      24.                                 \"Let Her Go\"[42]   \n",
      "24                      25.                                   \"Bailando\"[43]   \n",
      "25                      26.                                    \"Lean On\"[44]   \n",
      "26                      27.                                    \"Perfect\"[45]   \n",
      "27                      28.           \"Waka Waka (This Time for Africa)\"[46]   \n",
      "28                      29.                               \"Shake It Off\"[47]   \n",
      "29                      30.          \"Humpty the train on a fruits ride\"[48]   \n",
      "30  As of September 5, 2022                          As of September 5, 2022   \n",
      "\n",
      "                                         Uploader         Views (billions)  \\\n",
      "0     Pinkfong Baby Shark - Kids' Songs & Stories                    11.24   \n",
      "1                                      Luis Fonsi                     7.96   \n",
      "2                                     LooLoo Kids                     6.44   \n",
      "3                                      Ed Sheeran                     5.80   \n",
      "4                                     Wiz Khalifa                     5.62   \n",
      "5                      Cocomelon – Nursery Rhymes                     5.59   \n",
      "6                                       ChuChu TV                     4.85   \n",
      "7                                     Mark Ronson                     4.68   \n",
      "8                                     Miroshka TV                     4.61   \n",
      "9                                             Psy                     4.53   \n",
      "10                                     Get Movies                     4.51   \n",
      "11                     Cocomelon – Nursery Rhymes                     4.31   \n",
      "12                                      El Chombo                     4.05   \n",
      "13                                       Maroon 5                     3.75   \n",
      "14                                     Katy Perry                     3.64   \n",
      "15                                    OneRepublic                     3.63   \n",
      "16                                  Justin Bieber                     3.58   \n",
      "17                                     Crazy Frog                     3.49   \n",
      "18                                     Ed Sheeran                     3.49   \n",
      "19                     Cocomelon – Nursery Rhymes                     3.35   \n",
      "20                                     Katy Perry                     3.34   \n",
      "21                                    Alan Walker                     3.33   \n",
      "22                                       Maroon 5                     3.33   \n",
      "23                                      Passenger                     3.29   \n",
      "24                               Enrique Iglesias                     3.26   \n",
      "25                                    Major Lazer                     3.25   \n",
      "26                                     Ed Sheeran                     3.24   \n",
      "27                                        Shakira                     3.23   \n",
      "28                                   Taylor Swift                     3.20   \n",
      "29  Kiddiestv Hindi – Nursery Rhymes & Kids Songs                     3.14   \n",
      "30                        As of September 5, 2022  As of September 5, 2022   \n",
      "\n",
      "           Publication date                     Note               Unnamed: 6  \n",
      "0             June 17, 2016                      [A]                      NaN  \n",
      "1          January 12, 2017                      [B]                      NaN  \n",
      "2           October 8, 2016                      [C]                      NaN  \n",
      "3          January 30, 2017                      [D]                      NaN  \n",
      "4             April 6, 2015                      [E]                      NaN  \n",
      "5               May 2, 2018                      [F]                      NaN  \n",
      "6             March 6, 2014                      [G]                      NaN  \n",
      "7         November 19, 2014                      [H]                      NaN  \n",
      "8         February 27, 2018                      [I]                      NaN  \n",
      "9             July 15, 2012                      [J]                      NaN  \n",
      "10         January 31, 2012                      [K]                      NaN  \n",
      "11             May 24, 2018                      NaN                      NaN  \n",
      "12            April 5, 2018                      NaN                      NaN  \n",
      "13         January 14, 2015                      NaN                      NaN  \n",
      "14        September 5, 2013                      NaN                      NaN  \n",
      "15             May 31, 2013                      NaN                      NaN  \n",
      "16         October 22, 2015                      NaN                      NaN  \n",
      "17            June 16, 2009                      NaN                      NaN  \n",
      "18          October 7, 2014                      NaN                      NaN  \n",
      "19            June 25, 2018                      NaN                      NaN  \n",
      "20        February 20, 2014                      NaN                      NaN  \n",
      "21         December 3, 2015                      NaN                      NaN  \n",
      "22             May 31, 2018                      NaN                      NaN  \n",
      "23            July 25, 2012                      NaN                      NaN  \n",
      "24           April 11, 2014                      NaN                      NaN  \n",
      "25           March 22, 2015                      NaN                      NaN  \n",
      "26         November 9, 2017                      NaN                      NaN  \n",
      "27             June 4, 2010                      NaN                      NaN  \n",
      "28          August 18, 2014                      NaN                      NaN  \n",
      "29         January 26, 2018                      NaN                      NaN  \n",
      "30  As of September 5, 2022  As of September 5, 2022  As of September 5, 2022  \n"
     ]
    }
   ],
   "source": [
    "df=pd.read_html(str(indiatable))\n",
    "# convert list to dataframe\n",
    "df=pd.DataFrame(df[0])\n",
    "print(df)"
   ]
  },
  {
   "cell_type": "markdown",
   "id": "5c9a971e",
   "metadata": {},
   "source": [
    "# Ques 2 Scrape the details team India’s international fixtures from bcci.tv."
   ]
  },
  {
   "cell_type": "code",
   "execution_count": 51,
   "id": "2caadc5c",
   "metadata": {},
   "outputs": [
    {
     "name": "stdout",
     "output_type": "stream",
     "text": [
      "Requirement already satisfied: bs4 in c:\\users\\hp\\anaconda3\\lib\\site-packages (0.0.1)\n",
      "Requirement already satisfied: beautifulsoup4 in c:\\users\\hp\\anaconda3\\lib\\site-packages (from bs4) (4.10.0)\n",
      "Requirement already satisfied: soupsieve>1.2 in c:\\users\\hp\\anaconda3\\lib\\site-packages (from beautifulsoup4->bs4) (2.2.1)\n",
      "Requirement already satisfied: requests in c:\\users\\hp\\anaconda3\\lib\\site-packages (2.26.0)\n",
      "Requirement already satisfied: urllib3<1.27,>=1.21.1 in c:\\users\\hp\\anaconda3\\lib\\site-packages (from requests) (1.26.7)\n",
      "Requirement already satisfied: charset-normalizer~=2.0.0 in c:\\users\\hp\\anaconda3\\lib\\site-packages (from requests) (2.0.4)\n",
      "Requirement already satisfied: certifi>=2017.4.17 in c:\\users\\hp\\anaconda3\\lib\\site-packages (from requests) (2021.10.8)\n",
      "Requirement already satisfied: idna<4,>=2.5 in c:\\users\\hp\\anaconda3\\lib\\site-packages (from requests) (3.2)\n",
      "Requirement already satisfied: selenium in c:\\users\\hp\\anaconda3\\lib\\site-packages (4.4.0)\n",
      "Requirement already satisfied: urllib3[secure,socks]~=1.26 in c:\\users\\hp\\anaconda3\\lib\\site-packages (from selenium) (1.26.7)\n",
      "Requirement already satisfied: trio-websocket~=0.9 in c:\\users\\hp\\anaconda3\\lib\\site-packages (from selenium) (0.9.2)\n",
      "Requirement already satisfied: trio~=0.17 in c:\\users\\hp\\anaconda3\\lib\\site-packages (from selenium) (0.21.0)\n",
      "Requirement already satisfied: idna in c:\\users\\hp\\anaconda3\\lib\\site-packages (from trio~=0.17->selenium) (3.2)\n",
      "Requirement already satisfied: sortedcontainers in c:\\users\\hp\\anaconda3\\lib\\site-packages (from trio~=0.17->selenium) (2.4.0)\n",
      "Requirement already satisfied: cffi>=1.14 in c:\\users\\hp\\anaconda3\\lib\\site-packages (from trio~=0.17->selenium) (1.14.6)\n",
      "Requirement already satisfied: outcome in c:\\users\\hp\\anaconda3\\lib\\site-packages (from trio~=0.17->selenium) (1.2.0)\n",
      "Requirement already satisfied: sniffio in c:\\users\\hp\\anaconda3\\lib\\site-packages (from trio~=0.17->selenium) (1.2.0)\n",
      "Requirement already satisfied: attrs>=19.2.0 in c:\\users\\hp\\anaconda3\\lib\\site-packages (from trio~=0.17->selenium) (21.2.0)\n",
      "Requirement already satisfied: async-generator>=1.9 in c:\\users\\hp\\anaconda3\\lib\\site-packages (from trio~=0.17->selenium) (1.10)\n",
      "Requirement already satisfied: pycparser in c:\\users\\hp\\anaconda3\\lib\\site-packages (from cffi>=1.14->trio~=0.17->selenium) (2.20)\n",
      "Requirement already satisfied: wsproto>=0.14 in c:\\users\\hp\\anaconda3\\lib\\site-packages (from trio-websocket~=0.9->selenium) (1.1.0)\n",
      "Requirement already satisfied: PySocks!=1.5.7,<2.0,>=1.5.6 in c:\\users\\hp\\anaconda3\\lib\\site-packages (from urllib3[secure,socks]~=1.26->selenium) (1.7.1)\n",
      "Requirement already satisfied: pyOpenSSL>=0.14 in c:\\users\\hp\\anaconda3\\lib\\site-packages (from urllib3[secure,socks]~=1.26->selenium) (21.0.0)\n",
      "Requirement already satisfied: cryptography>=1.3.4 in c:\\users\\hp\\anaconda3\\lib\\site-packages (from urllib3[secure,socks]~=1.26->selenium) (3.4.8)\n",
      "Requirement already satisfied: certifi in c:\\users\\hp\\anaconda3\\lib\\site-packages (from urllib3[secure,socks]~=1.26->selenium) (2021.10.8)\n",
      "Requirement already satisfied: six>=1.5.2 in c:\\users\\hp\\anaconda3\\lib\\site-packages (from pyOpenSSL>=0.14->urllib3[secure,socks]~=1.26->selenium) (1.16.0)\n",
      "Requirement already satisfied: h11<1,>=0.9.0 in c:\\users\\hp\\anaconda3\\lib\\site-packages (from wsproto>=0.14->trio-websocket~=0.9->selenium) (0.13.0)\n"
     ]
    }
   ],
   "source": [
    "!pip install bs4\n",
    "!pip install requests\n",
    "!pip install selenium"
   ]
  },
  {
   "cell_type": "code",
   "execution_count": 52,
   "id": "37c5f8c9",
   "metadata": {},
   "outputs": [],
   "source": [
    "import selenium\n",
    "import pandas as pd\n",
    "from selenium import webdriver\n",
    "import warnings\n",
    "warnings.filterwarnings('ignore')\n",
    "from selenium.common.exceptions import StaleElementReferenceException, NoSuchElementException\n",
    "from selenium.webdriver.common.by import By\n",
    "import time\n",
    "from bs4 import BeautifulSoup\n",
    "import requests"
   ]
  },
  {
   "cell_type": "code",
   "execution_count": 64,
   "id": "87edf707",
   "metadata": {},
   "outputs": [],
   "source": [
    "driver=webdriver.Chrome(r\"C:\\Users\\hp\\Downloads\\zipfile\\chromedriver.exe\")"
   ]
  },
  {
   "cell_type": "code",
   "execution_count": 65,
   "id": "f9a71861",
   "metadata": {},
   "outputs": [],
   "source": [
    "driver.get(\"https://www.bcci.tv/\")"
   ]
  },
  {
   "cell_type": "code",
   "execution_count": 69,
   "id": "76ca9b55",
   "metadata": {},
   "outputs": [],
   "source": [
    "search=driver.find_element(By.XPATH,'//button[@class=\"navbar-toggler menu-btn menu-icon collapsed\"]')\n",
    "search.click()"
   ]
  },
  {
   "cell_type": "code",
   "execution_count": 71,
   "id": "d24868fa",
   "metadata": {},
   "outputs": [],
   "source": [
    "go_to=driver.find_element(By.XPATH,'/html/body/nav/div[1]/div[2]/ul[1]/li[2]/a')\n",
    "go_to.click()"
   ]
  },
  {
   "cell_type": "code",
   "execution_count": 76,
   "id": "186c3123",
   "metadata": {},
   "outputs": [],
   "source": [
    "Series=[]\n",
    "series=driver.find_elements(By.XPATH,'//span[@class=\"ng-binding\"]')\n",
    "for i in series:\n",
    "    series=i.text\n",
    "    Series.append(series)"
   ]
  },
  {
   "cell_type": "code",
   "execution_count": 77,
   "id": "091fdfff",
   "metadata": {},
   "outputs": [
    {
     "name": "stdout",
     "output_type": "stream",
     "text": [
      "8\n"
     ]
    }
   ],
   "source": [
    "print(len(Series))"
   ]
  },
  {
   "cell_type": "code",
   "execution_count": 78,
   "id": "5ea15445",
   "metadata": {},
   "outputs": [],
   "source": [
    "Date=[]\n",
    "date=driver.find_elements(By.XPATH,'//h5[@class=\"ng-binding\"]')\n",
    "for i in date:\n",
    "    date=i.text\n",
    "    Date.append(date)"
   ]
  },
  {
   "cell_type": "code",
   "execution_count": 79,
   "id": "ba3af2e7",
   "metadata": {},
   "outputs": [
    {
     "name": "stdout",
     "output_type": "stream",
     "text": [
      "8\n"
     ]
    }
   ],
   "source": [
    "print(len(Date))"
   ]
  },
  {
   "cell_type": "code",
   "execution_count": 80,
   "id": "ef6a436c",
   "metadata": {},
   "outputs": [],
   "source": [
    "Time=[]\n",
    "time=driver.find_elements(By.XPATH,'//h5[@class=\"text-right ng-binding\"]')\n",
    "for i in time:\n",
    "    time=i.text\n",
    "    Time.append(time)"
   ]
  },
  {
   "cell_type": "code",
   "execution_count": 81,
   "id": "ee183544",
   "metadata": {},
   "outputs": [
    {
     "name": "stdout",
     "output_type": "stream",
     "text": [
      "8\n"
     ]
    }
   ],
   "source": [
    "print(len(Time))"
   ]
  },
  {
   "cell_type": "code",
   "execution_count": 82,
   "id": "97f60cd2",
   "metadata": {},
   "outputs": [],
   "source": [
    "Place=[]\n",
    "place=driver.find_elements(By.XPATH,'//span[@class=\"matchOrderText ng-binding ng-scope\"]')\n",
    "for i in place:\n",
    "    place=i.text\n",
    "    Place.append(place)"
   ]
  },
  {
   "cell_type": "code",
   "execution_count": 83,
   "id": "2ac04bf2",
   "metadata": {},
   "outputs": [
    {
     "name": "stdout",
     "output_type": "stream",
     "text": [
      "8\n"
     ]
    }
   ],
   "source": [
    "print(len(Place))"
   ]
  },
  {
   "cell_type": "code",
   "execution_count": 84,
   "id": "6c559626",
   "metadata": {},
   "outputs": [
    {
     "data": {
      "text/html": [
       "<div>\n",
       "<style scoped>\n",
       "    .dataframe tbody tr th:only-of-type {\n",
       "        vertical-align: middle;\n",
       "    }\n",
       "\n",
       "    .dataframe tbody tr th {\n",
       "        vertical-align: top;\n",
       "    }\n",
       "\n",
       "    .dataframe thead th {\n",
       "        text-align: right;\n",
       "    }\n",
       "</style>\n",
       "<table border=\"1\" class=\"dataframe\">\n",
       "  <thead>\n",
       "    <tr style=\"text-align: right;\">\n",
       "      <th></th>\n",
       "      <th>Series</th>\n",
       "      <th>Place</th>\n",
       "      <th>Time</th>\n",
       "      <th>Date</th>\n",
       "    </tr>\n",
       "  </thead>\n",
       "  <tbody>\n",
       "    <tr>\n",
       "      <th>0</th>\n",
       "      <td>INDIA WOMEN TOUR OF ENGLAND T20 SERIES 2022</td>\n",
       "      <td>2nd T20I -</td>\n",
       "      <td>10:30 PM IST</td>\n",
       "      <td>13 SEP 2022</td>\n",
       "    </tr>\n",
       "    <tr>\n",
       "      <th>1</th>\n",
       "      <td>INDIA WOMEN TOUR OF ENGLAND T20 SERIES 2022</td>\n",
       "      <td>3rd T20I -</td>\n",
       "      <td>11:00 PM IST</td>\n",
       "      <td>15 SEP 2022</td>\n",
       "    </tr>\n",
       "    <tr>\n",
       "      <th>2</th>\n",
       "      <td>INDIA WOMEN TOUR OF ENGLAND ODI SERIES 2022</td>\n",
       "      <td>1st ODI -</td>\n",
       "      <td>3:30 PM IST</td>\n",
       "      <td>18 SEP 2022</td>\n",
       "    </tr>\n",
       "    <tr>\n",
       "      <th>3</th>\n",
       "      <td>AUSTRALIA TOUR OF INDIA T20 SERIES 2022</td>\n",
       "      <td>1st T20I -</td>\n",
       "      <td>7:30 PM IST</td>\n",
       "      <td>20 SEP 2022</td>\n",
       "    </tr>\n",
       "    <tr>\n",
       "      <th>4</th>\n",
       "      <td>INDIA WOMEN TOUR OF ENGLAND ODI SERIES 2022</td>\n",
       "      <td>2nd ODI -</td>\n",
       "      <td>5:30 PM IST</td>\n",
       "      <td>21 SEP 2022</td>\n",
       "    </tr>\n",
       "    <tr>\n",
       "      <th>5</th>\n",
       "      <td>AUSTRALIA TOUR OF INDIA T20 SERIES 2022</td>\n",
       "      <td>2nd T20I -</td>\n",
       "      <td>7:30 PM IST</td>\n",
       "      <td>23 SEP 2022</td>\n",
       "    </tr>\n",
       "    <tr>\n",
       "      <th>6</th>\n",
       "      <td>INDIA WOMEN TOUR OF ENGLAND ODI SERIES 2022</td>\n",
       "      <td>3rd ODI -</td>\n",
       "      <td>3:30 PM IST</td>\n",
       "      <td>24 SEP 2022</td>\n",
       "    </tr>\n",
       "    <tr>\n",
       "      <th>7</th>\n",
       "      <td>AUSTRALIA TOUR OF INDIA T20 SERIES 2022</td>\n",
       "      <td>3rd T20I -</td>\n",
       "      <td>7:30 PM IST</td>\n",
       "      <td>25 SEP 2022</td>\n",
       "    </tr>\n",
       "  </tbody>\n",
       "</table>\n",
       "</div>"
      ],
      "text/plain": [
       "                                        Series       Place          Time  \\\n",
       "0  INDIA WOMEN TOUR OF ENGLAND T20 SERIES 2022  2nd T20I -  10:30 PM IST   \n",
       "1  INDIA WOMEN TOUR OF ENGLAND T20 SERIES 2022  3rd T20I -  11:00 PM IST   \n",
       "2  INDIA WOMEN TOUR OF ENGLAND ODI SERIES 2022   1st ODI -   3:30 PM IST   \n",
       "3      AUSTRALIA TOUR OF INDIA T20 SERIES 2022  1st T20I -   7:30 PM IST   \n",
       "4  INDIA WOMEN TOUR OF ENGLAND ODI SERIES 2022   2nd ODI -   5:30 PM IST   \n",
       "5      AUSTRALIA TOUR OF INDIA T20 SERIES 2022  2nd T20I -   7:30 PM IST   \n",
       "6  INDIA WOMEN TOUR OF ENGLAND ODI SERIES 2022   3rd ODI -   3:30 PM IST   \n",
       "7      AUSTRALIA TOUR OF INDIA T20 SERIES 2022  3rd T20I -   7:30 PM IST   \n",
       "\n",
       "          Date  \n",
       "0  13 SEP 2022  \n",
       "1  15 SEP 2022  \n",
       "2  18 SEP 2022  \n",
       "3  20 SEP 2022  \n",
       "4  21 SEP 2022  \n",
       "5  23 SEP 2022  \n",
       "6  24 SEP 2022  \n",
       "7  25 SEP 2022  "
      ]
     },
     "execution_count": 84,
     "metadata": {},
     "output_type": "execute_result"
    }
   ],
   "source": [
    "df=pd.DataFrame({\"Series\":Series,\"Place\":Place,\"Time\":Time,\"Date\":Date})\n",
    "df"
   ]
  },
  {
   "cell_type": "code",
   "execution_count": 85,
   "id": "ac2d1303",
   "metadata": {},
   "outputs": [],
   "source": [
    "driver.close()"
   ]
  },
  {
   "cell_type": "markdown",
   "id": "0bc474b1",
   "metadata": {},
   "source": [
    "# 3. Scrape the details of selenium exception from guru99.com."
   ]
  },
  {
   "cell_type": "code",
   "execution_count": 7,
   "id": "17ac5928",
   "metadata": {},
   "outputs": [
    {
     "name": "stdout",
     "output_type": "stream",
     "text": [
      "Requirement already satisfied: bs4 in c:\\users\\hp\\anaconda3\\lib\\site-packages (0.0.1)\n",
      "Requirement already satisfied: beautifulsoup4 in c:\\users\\hp\\anaconda3\\lib\\site-packages (from bs4) (4.10.0)\n",
      "Requirement already satisfied: soupsieve>1.2 in c:\\users\\hp\\anaconda3\\lib\\site-packages (from beautifulsoup4->bs4) (2.2.1)\n",
      "Requirement already satisfied: requests in c:\\users\\hp\\anaconda3\\lib\\site-packages (2.26.0)\n",
      "Requirement already satisfied: urllib3<1.27,>=1.21.1 in c:\\users\\hp\\anaconda3\\lib\\site-packages (from requests) (1.26.7)\n",
      "Requirement already satisfied: charset-normalizer~=2.0.0 in c:\\users\\hp\\anaconda3\\lib\\site-packages (from requests) (2.0.4)\n",
      "Requirement already satisfied: idna<4,>=2.5 in c:\\users\\hp\\anaconda3\\lib\\site-packages (from requests) (3.2)\n",
      "Requirement already satisfied: certifi>=2017.4.17 in c:\\users\\hp\\anaconda3\\lib\\site-packages (from requests) (2021.10.8)\n",
      "Requirement already satisfied: selenium in c:\\users\\hp\\anaconda3\\lib\\site-packages (4.4.0)\n",
      "Requirement already satisfied: trio~=0.17 in c:\\users\\hp\\anaconda3\\lib\\site-packages (from selenium) (0.21.0)\n",
      "Requirement already satisfied: urllib3[secure,socks]~=1.26 in c:\\users\\hp\\anaconda3\\lib\\site-packages (from selenium) (1.26.7)\n",
      "Requirement already satisfied: trio-websocket~=0.9 in c:\\users\\hp\\anaconda3\\lib\\site-packages (from selenium) (0.9.2)\n",
      "Requirement already satisfied: outcome in c:\\users\\hp\\anaconda3\\lib\\site-packages (from trio~=0.17->selenium) (1.2.0)\n",
      "Requirement already satisfied: idna in c:\\users\\hp\\anaconda3\\lib\\site-packages (from trio~=0.17->selenium) (3.2)\n",
      "Requirement already satisfied: sniffio in c:\\users\\hp\\anaconda3\\lib\\site-packages (from trio~=0.17->selenium) (1.2.0)\n",
      "Requirement already satisfied: sortedcontainers in c:\\users\\hp\\anaconda3\\lib\\site-packages (from trio~=0.17->selenium) (2.4.0)\n",
      "Requirement already satisfied: async-generator>=1.9 in c:\\users\\hp\\anaconda3\\lib\\site-packages (from trio~=0.17->selenium) (1.10)\n",
      "Requirement already satisfied: cffi>=1.14 in c:\\users\\hp\\anaconda3\\lib\\site-packages (from trio~=0.17->selenium) (1.14.6)\n",
      "Requirement already satisfied: attrs>=19.2.0 in c:\\users\\hp\\anaconda3\\lib\\site-packages (from trio~=0.17->selenium) (21.2.0)\n",
      "Requirement already satisfied: pycparser in c:\\users\\hp\\anaconda3\\lib\\site-packages (from cffi>=1.14->trio~=0.17->selenium) (2.20)\n",
      "Requirement already satisfied: wsproto>=0.14 in c:\\users\\hp\\anaconda3\\lib\\site-packages (from trio-websocket~=0.9->selenium) (1.1.0)\n",
      "Requirement already satisfied: pyOpenSSL>=0.14 in c:\\users\\hp\\anaconda3\\lib\\site-packages (from urllib3[secure,socks]~=1.26->selenium) (21.0.0)\n",
      "Requirement already satisfied: cryptography>=1.3.4 in c:\\users\\hp\\anaconda3\\lib\\site-packages (from urllib3[secure,socks]~=1.26->selenium) (3.4.8)\n",
      "Requirement already satisfied: certifi in c:\\users\\hp\\anaconda3\\lib\\site-packages (from urllib3[secure,socks]~=1.26->selenium) (2021.10.8)\n",
      "Requirement already satisfied: PySocks!=1.5.7,<2.0,>=1.5.6 in c:\\users\\hp\\anaconda3\\lib\\site-packages (from urllib3[secure,socks]~=1.26->selenium) (1.7.1)\n",
      "Requirement already satisfied: six>=1.5.2 in c:\\users\\hp\\anaconda3\\lib\\site-packages (from pyOpenSSL>=0.14->urllib3[secure,socks]~=1.26->selenium) (1.16.0)\n",
      "Requirement already satisfied: h11<1,>=0.9.0 in c:\\users\\hp\\anaconda3\\lib\\site-packages (from wsproto>=0.14->trio-websocket~=0.9->selenium) (0.13.0)\n"
     ]
    }
   ],
   "source": [
    "!pip install bs4\n",
    "!pip install requests\n",
    "!pip install selenium"
   ]
  },
  {
   "cell_type": "code",
   "execution_count": 8,
   "id": "3938033e",
   "metadata": {},
   "outputs": [],
   "source": [
    "import selenium\n",
    "import pandas as pd\n",
    "from selenium import webdriver\n",
    "import warnings\n",
    "warnings.filterwarnings('ignore')\n",
    "from selenium.common.exceptions import StaleElementReferenceException, NoSuchElementException\n",
    "from selenium.webdriver.common.by import By\n",
    "import time\n",
    "from bs4 import BeautifulSoup\n",
    "import requests"
   ]
  },
  {
   "cell_type": "code",
   "execution_count": 9,
   "id": "0b034c30",
   "metadata": {},
   "outputs": [],
   "source": [
    "driver=webdriver.Chrome(r\"C:\\Users\\hp\\Downloads\\zipfile\\chromedriver.exe\")"
   ]
  },
  {
   "cell_type": "code",
   "execution_count": 10,
   "id": "a3d72de6",
   "metadata": {},
   "outputs": [],
   "source": [
    "driver.get(\"https://www.guru99.com/\")"
   ]
  },
  {
   "cell_type": "code",
   "execution_count": 11,
   "id": "1e19bbe8",
   "metadata": {},
   "outputs": [],
   "source": [
    "go_to=driver.find_element(By.XPATH,'/html/body/div[1]/div/div/div/main/div/article/div/div[1]/div[2]/div[1]/div/ul[1]/li[3]/a')\n",
    "go_to.click()"
   ]
  },
  {
   "cell_type": "code",
   "execution_count": 13,
   "id": "7b606963",
   "metadata": {},
   "outputs": [],
   "source": [
    "search=driver.find_element(By.XPATH,'/html/body/div[1]/div/div/div/main/div/article/div/div/table[5]/tbody/tr[34]/td[1]/a')\n",
    "search.click()"
   ]
  },
  {
   "cell_type": "code",
   "execution_count": 52,
   "id": "a82cfb40",
   "metadata": {},
   "outputs": [],
   "source": [
    "selenium_exception=[]\n",
    "exception=driver.find_elements(By.XPATH,'/html/body/div[1]/div/div/div/main/div/article/div/div/p[1]')\n",
    "for i in exception:\n",
    "    exception=i.text\n",
    "    selenium_exception.append(exception)\n",
    "exception=driver.find_elements(By.XPATH,'/html/body/div[1]/div/div/div/main/div/article/div/div/p[2]')\n",
    "for i in exception:\n",
    "    exception=i.text\n",
    "    selenium_exception.append(exception)\n",
    "exception=driver.find_elements(By.XPATH,'/html/body/div[1]/div/div/div/main/div/article/div/div/p[3]')\n",
    "for i in exception:\n",
    "    exception=i.text\n",
    "    selenium_exception.append(exception)\n",
    "exception=driver.find_elements(By.XPATH,'/html/body/div[1]/div/div/div/main/div/article/div/div/p[4]')\n",
    "for i in exception:\n",
    "    exception=i.text\n",
    "    selenium_exception.append(exception)\n",
    "exception=driver.find_elements(By.XPATH,'/html/body/div[1]/div/div/div/main/div/article/div/div/p[5]')\n",
    "for i in exception:\n",
    "    exception=i.text\n",
    "    selenium_exception.append(exception)\n",
    "exception=driver.find_elements(By.XPATH,'/html/body/div[1]/div/div/div/main/div/article/div/div/p[6]')\n",
    "for i in exception:\n",
    "    exception=i.text\n",
    "    selenium_exception.append(exception)\n",
    "exception=driver.find_elements(By.XPATH,'/html/body/div[1]/div/div/div/main/div/article/div/div/p[7]')\n",
    "for i in exception:\n",
    "    exception=i.text\n",
    "    selenium_exception.append(exception)\n",
    "exception=driver.find_elements(By.XPATH,'/html/body/div[1]/div/div/div/main/div/article/div/div/p[8]')\n",
    "for i in exception:\n",
    "    exception=i.text\n",
    "    selenium_exception.append(exception)\n",
    "exception=driver.find_elements(By.XPATH,'/html/body/div[1]/div/div/div/main/div/article/div/div/p[9]')\n",
    "for i in exception:\n",
    "    exception=i.text\n",
    "    selenium_exception.append(exception)\n",
    "exception=driver.find_elements(By.XPATH,'/html/body/div[1]/div/div/div/main/div/article/div/div/p[10]')\n",
    "for i in exception:\n",
    "    exception=i.text\n",
    "    selenium_exception.append(exception)\n",
    "exception=driver.find_elements(By.XPATH,'/html/body/div[1]/div/div/div/main/div/article/div/div/p[11]')\n",
    "for i in exception:\n",
    "    exception=i.text\n",
    "    selenium_exception.append(exception)\n",
    "exception=driver.find_elements(By.XPATH,'/html/body/div[1]/div/div/div/main/div/article/div/div/p[12]')\n",
    "for i in exception:\n",
    "    exception=i.text\n",
    "    selenium_exception.append(exception)\n",
    "exception=driver.find_elements(By.XPATH,'/html/body/div[1]/div/div/div/main/div/article/div/div/p[13]')\n",
    "for i in exception:\n",
    "    exception=i.text\n",
    "    selenium_exception.append(exception)\n",
    "exception=driver.find_elements(By.XPATH,'/html/body/div[1]/div/div/div/main/div/article/div/div/p[14]')\n",
    "for i in exception:\n",
    "    exception=i.text\n",
    "    selenium_exception.append(exception)\n",
    "exception=driver.find_elements(By.XPATH,'/html/body/div[1]/div/div/div/main/div/article/div/div/p[15]')\n",
    "for i in exception:\n",
    "    exception=i.text\n",
    "    selenium_exception.append(exception)\n",
    "exception=driver.find_elements(By.XPATH,'/html/body/div[1]/div/div/div/main/div/article/div/div/p[2]')\n",
    "for i in exception:\n",
    "    exception=i.text\n",
    "    selenium_exception.append(exception)\n",
    "exception=driver.find_elements(By.XPATH,'/html/body/div[1]/div/div/div/main/div/article/div/div/p[16]')\n",
    "for i in exception:\n",
    "    exception=i.text\n",
    "    selenium_exception.append(exception)\n",
    "exception=driver.find_elements(By.XPATH,'/html/body/div[1]/div/div/div/main/div/article/div/div/p[17]')\n",
    "for i in exception:\n",
    "    exception=i.text\n",
    "    selenium_exception.append(exception)\n",
    "exception=driver.find_elements(By.XPATH,'/html/body/div[1]/div/div/div/main/div/article/div/div/p[18]')\n",
    "for i in exception:\n",
    "    exception=i.text\n",
    "    selenium_exception.append(exception)\n",
    "exception=driver.find_elements(By.XPATH,'/html/body/div[1]/div/div/div/main/div/article/div/div/p[19]')\n",
    "for i in exception:\n",
    "    exception=i.text\n",
    "    selenium_exception.append(exception)\n",
    "exception=driver.find_elements(By.XPATH,'/html/body/div[1]/div/div/div/main/div/article/div/div/p[20]')\n",
    "for i in exception:\n",
    "    exception=i.text\n",
    "    selenium_exception.append(exception)\n",
    "exception=driver.find_elements(By.XPATH,'/html/body/div[1]/div/div/div/main/div/article/div/div/p[21]')\n",
    "for i in exception:\n",
    "    exception=i.text\n",
    "    selenium_exception.append(exception)\n",
    "exception=driver.find_elements(By.XPATH,'/html/body/div[1]/div/div/div/main/div/article/div/div/p[22]')\n",
    "for i in exception:\n",
    "    exception=i.text\n",
    "    selenium_exception.append(exception)\n",
    "exception=driver.find_elements(By.XPATH,'/html/body/div[1]/div/div/div/main/div/article/div/div/p[23]')\n",
    "for i in exception:\n",
    "    exception=i.text\n",
    "    selenium_exception.append(exception)\n",
    "exception=driver.find_elements(By.XPATH,'/html/body/div[1]/div/div/div/main/div/article/div/div/p[24]')\n",
    "for i in exception:\n",
    "    exception=i.text\n",
    "    selenium_exception.append(exception)\n",
    "exception=driver.find_elements(By.XPATH,'/html/body/div[1]/div/div/div/main/div/article/div/div/p[25]')\n",
    "for i in exception:\n",
    "    exception=i.text\n",
    "    selenium_exception.append(exception)\n",
    "exception=driver.find_elements(By.XPATH,'/html/body/div[1]/div/div/div/main/div/article/div/div/p[26]')\n",
    "for i in exception:\n",
    "    exception=i.text\n",
    "    selenium_exception.append(exception)\n",
    "exception=driver.find_elements(By.XPATH,'/html/body/div[1]/div/div/div/main/div/article/div/div/p[27]')\n",
    "for i in exception:\n",
    "    exception=i.text\n",
    "    selenium_exception.append(exception)\n",
    "exception=driver.find_elements(By.XPATH,'/html/body/div[1]/div/div/div/main/div/article/div/div/p[28]')\n",
    "for i in exception:\n",
    "    exception=i.text\n",
    "    selenium_exception.append(exception)\n",
    "exception=driver.find_elements(By.XPATH,'/html/body/div[1]/div/div/div/main/div/article/div/div/p[29]')\n",
    "for i in exception:\n",
    "    exception=i.text\n",
    "    selenium_exception.append(exception)\n",
    "exception=driver.find_elements(By.XPATH,'/html/body/div[1]/div/div/div/main/div/article/div/div/p[30]')\n",
    "for i in exception:\n",
    "    exception=i.text\n",
    "    selenium_exception.append(exception)\n",
    "exception=driver.find_elements(By.XPATH,'/html/body/div[1]/div/div/div/main/div/article/div/div/p[31]')\n",
    "for i in exception:\n",
    "    exception=i.text\n",
    "    selenium_exception.append(exception)\n",
    "exception=driver.find_elements(By.XPATH,'/html/body/div[1]/div/div/div/main/div/article/div/div/p[32]')\n",
    "for i in exception:\n",
    "    exception=i.text\n",
    "    selenium_exception.append(exception)\n",
    "exception=driver.find_elements(By.XPATH,'/html/body/div[1]/div/div/div/main/div/article/div/div/p[33]')\n",
    "for i in exception:\n",
    "    exception=i.text\n",
    "    selenium_exception.append(exception)\n",
    "exception=driver.find_elements(By.XPATH,'/html/body/div[1]/div/div/div/main/div/article/div/div/p[34]')\n",
    "for i in exception:\n",
    "    exception=i.text\n",
    "    selenium_exception.append(exception)\n",
    "exception=driver.find_elements(By.XPATH,'/html/body/div[1]/div/div/div/main/div/article/div/div/p[35]')\n",
    "for i in exception:\n",
    "    exception=i.text\n",
    "    selenium_exception.append(exception)\n",
    "exception=driver.find_elements(By.XPATH,'/html/body/div[1]/div/div/div/main/div/article/div/div/p[36]')\n",
    "for i in exception:\n",
    "    exception=i.text\n",
    "    selenium_exception.append(exception)\n",
    "exception=driver.find_elements(By.XPATH,'/html/body/div[1]/div/div/div/main/div/article/div/div/p[37]')\n",
    "for i in exception:\n",
    "    exception=i.text\n",
    "    selenium_exception.append(exception)\n",
    "exception=driver.find_elements(By.XPATH,'/html/body/div[1]/div/div/div/main/div/article/div/div/p[38]')\n",
    "for i in exception:\n",
    "    exception=i.text\n",
    "    selenium_exception.append(exception)\n",
    "exception=driver.find_elements(By.XPATH,'/html/body/div[1]/div/div/div/main/div/article/div/div/p[39]')\n",
    "for i in exception:\n",
    "    exception=i.text\n",
    "    selenium_exception.append(exception)\n",
    "exception=driver.find_elements(By.XPATH,'/html/body/div[1]/div/div/div/main/div/article/div/div/p[40]')\n",
    "for i in exception:\n",
    "    exception=i.text\n",
    "    selenium_exception.append(exception)\n",
    "exception=driver.find_elements(By.XPATH,'/html/body/div[1]/div/div/div/main/div/article/div/div/p[41]')\n",
    "for i in exception:\n",
    "    exception=i.text\n",
    "    selenium_exception.append(exception)\n"
   ]
  },
  {
   "cell_type": "code",
   "execution_count": 53,
   "id": "68709a38",
   "metadata": {},
   "outputs": [
    {
     "name": "stdout",
     "output_type": "stream",
     "text": [
      "42\n"
     ]
    }
   ],
   "source": [
    "print(len(selenium_exception))"
   ]
  },
  {
   "cell_type": "code",
   "execution_count": 54,
   "id": "e318642f",
   "metadata": {},
   "outputs": [
    {
     "data": {
      "text/plain": [
       "['1. ElementNotVisibleException: This type of Selenium exception occurs when an existing element in DOM has a feature set as hidden.',\n",
       " '2. ElementNotSelectableException: This Selenium exception occurs when an element is presented in the DOM, but you can be able to select. Therefore, it is not possible to interact.',\n",
       " '3. NoSuchElementException: This Exception occurs if an element could not be found.',\n",
       " '4. NoSuchFrameException: This Exception occurs if the frame target to be switched to does not exist.',\n",
       " '5. NoAlertPresentException: This Exception occurs when you switch to no presented alert.',\n",
       " '6. NoSuchWindowException: This Exception occurs if the window target to be switch does not exist.',\n",
       " '7. StaleElementReferenceException: This Selenium exception occurs happens when the web element is detached from the current DOM.',\n",
       " '8. SessionNotFoundException: The WebDriver is acting after you quit the browser.',\n",
       " '9. TimeoutException: Thrown when there is not enough time for a command to be completed. For Example, the element searched wasn’t found in the specified time.',\n",
       " '10. WebDriverException: This Exception takes place when the WebDriver is acting right after you close the browser.',\n",
       " '11. ConnectionClosedException: This type of Exception takes place when there is a disconnection in the driver.',\n",
       " '12. ElementClickInterceptedException: The command may not be completed as the element receiving the events is concealing the element which was requested clicked.',\n",
       " '13. ElementNotInteractableException: This Selenium exception is thrown when any element is presented in the DOM. However, it is impossible to interact with such an element.',\n",
       " '14. ErrorInResponseException: This happens while interacting with the Firefox extension or the remote driver server.',\n",
       " '15. ErrorHandler.UnknownServerException: Exception is used as a placeholder in case if the server returns an error without a stack trace.',\n",
       " '2. ElementNotSelectableException: This Selenium exception occurs when an element is presented in the DOM, but you can be able to select. Therefore, it is not possible to interact.',\n",
       " '16. ImeActivationFailedException: This expectation will occur when IME engine activation has failed.',\n",
       " '17. ImeNotAvailableException: It takes place when IME support is unavailable.',\n",
       " '18. InsecureCertificateException: Navigation made the user agent to hit a certificate warning. This can cause by an invalid or expired TLS certificate.',\n",
       " '19. InvalidArgumentException: It occurs when an argument does not belong to the expected type.',\n",
       " '20. InvalidCookieDomainException: This happens when you try to add a cookie under a different domain instead of current URL.',\n",
       " '21. InvalidCoordinatesException: This type of Exception matches an interacting operation that is not valid.',\n",
       " '22. InvalidElementStateException: It occurs when command can’t be finished when the element is invalid.',\n",
       " '23. InvalidSessionIdException: This Exception took place when the given session ID is not included in the list of active sessions. It means the session does not exist or is inactive either.',\n",
       " '24. InvalidSwitchToTargetException: This occurs when the frame or window target to be switched does not exist.',\n",
       " '25. JavascriptException: This issue occurs while executing JavaScript given by the user.',\n",
       " '26. JsonException: It occurs when you afford to get the session when the session is not created.',\n",
       " '27. NoSuchAttributeException: This kind of Exception occurs when the attribute of an element could not be found.',\n",
       " '28. MoveTargetOutOfBoundsException: It takes place if the target provided to the ActionChains move() methodology is not valid. For Example, out of the document.',\n",
       " '29. NoSuchContextException: ContextAware does mobile device testing.',\n",
       " '30. NoSuchCookieException: This Exception occurs when no cookie matching with the given pathname found for all the associated cookies of the currently browsing document.',\n",
       " '31. NotFoundException: This Exception is a subclass of WebDriverException. This will occur when an element on the DOM does not exist.',\n",
       " '32. RemoteDriverServerException: This Selenium exception is thrown when the server is not responding because of the problem that the capabilities described are not proper.',\n",
       " '33. ScreenshotException: It is not possible to capture a screen.',\n",
       " '34. SessionNotCreatedException: It happens when a new session could not be successfully created.',\n",
       " '35. UnableToSetCookieException: This occurs if a driver is unable to set a cookie.',\n",
       " '36. UnexpectedTagNameException: Happens if a support class did not get a web element as expected.',\n",
       " '37. UnhandledAlertException: This expectation occurs when there is an alert, but WebDriver is not able to perform Alert operation.',\n",
       " '38. UnexpectedAlertPresentException: It occurs when there is the appearance of an unexpected alert.',\n",
       " '39. UnknownMethodException: This Exception happens when the requested command matches with a known URL but and not matching with a methodology for a specific URL.',\n",
       " '40. UnreachableBrowserException: This Exception occurs only when the browser is not able to be opened or crashed because of some reason.',\n",
       " '41. UnsupportedCommandException: This occurs when remote WebDriver doesn’t send valid commands as expected.']"
      ]
     },
     "execution_count": 54,
     "metadata": {},
     "output_type": "execute_result"
    }
   ],
   "source": [
    "selenium_exception"
   ]
  },
  {
   "cell_type": "code",
   "execution_count": 55,
   "id": "9e15b592",
   "metadata": {},
   "outputs": [],
   "source": [
    "driver.close"
   ]
  },
  {
   "cell_type": "markdown",
   "id": "368a994d",
   "metadata": {},
   "source": [
    "# 4. Scrape the details of State-wise GDP of India from statisticstime.com."
   ]
  },
  {
   "cell_type": "code",
   "execution_count": 1,
   "id": "d52ded54",
   "metadata": {},
   "outputs": [
    {
     "name": "stdout",
     "output_type": "stream",
     "text": [
      "Requirement already satisfied: bs4 in c:\\users\\hp\\anaconda3\\lib\\site-packages (0.0.1)\n",
      "Requirement already satisfied: beautifulsoup4 in c:\\users\\hp\\anaconda3\\lib\\site-packages (from bs4) (4.10.0)\n",
      "Requirement already satisfied: soupsieve>1.2 in c:\\users\\hp\\anaconda3\\lib\\site-packages (from beautifulsoup4->bs4) (2.2.1)\n",
      "Requirement already satisfied: requests in c:\\users\\hp\\anaconda3\\lib\\site-packages (2.26.0)\n",
      "Requirement already satisfied: certifi>=2017.4.17 in c:\\users\\hp\\anaconda3\\lib\\site-packages (from requests) (2021.10.8)\n",
      "Requirement already satisfied: urllib3<1.27,>=1.21.1 in c:\\users\\hp\\anaconda3\\lib\\site-packages (from requests) (1.26.7)\n",
      "Requirement already satisfied: idna<4,>=2.5 in c:\\users\\hp\\anaconda3\\lib\\site-packages (from requests) (3.2)\n",
      "Requirement already satisfied: charset-normalizer~=2.0.0 in c:\\users\\hp\\anaconda3\\lib\\site-packages (from requests) (2.0.4)\n",
      "Requirement already satisfied: selenium in c:\\users\\hp\\anaconda3\\lib\\site-packages (4.4.0)\n",
      "Requirement already satisfied: trio-websocket~=0.9 in c:\\users\\hp\\anaconda3\\lib\\site-packages (from selenium) (0.9.2)\n",
      "Requirement already satisfied: trio~=0.17 in c:\\users\\hp\\anaconda3\\lib\\site-packages (from selenium) (0.21.0)\n",
      "Requirement already satisfied: urllib3[secure,socks]~=1.26 in c:\\users\\hp\\anaconda3\\lib\\site-packages (from selenium) (1.26.7)\n",
      "Requirement already satisfied: sniffio in c:\\users\\hp\\anaconda3\\lib\\site-packages (from trio~=0.17->selenium) (1.2.0)\n",
      "Requirement already satisfied: async-generator>=1.9 in c:\\users\\hp\\anaconda3\\lib\\site-packages (from trio~=0.17->selenium) (1.10)\n",
      "Requirement already satisfied: attrs>=19.2.0 in c:\\users\\hp\\anaconda3\\lib\\site-packages (from trio~=0.17->selenium) (21.2.0)\n",
      "Requirement already satisfied: outcome in c:\\users\\hp\\anaconda3\\lib\\site-packages (from trio~=0.17->selenium) (1.2.0)\n",
      "Requirement already satisfied: idna in c:\\users\\hp\\anaconda3\\lib\\site-packages (from trio~=0.17->selenium) (3.2)\n",
      "Requirement already satisfied: sortedcontainers in c:\\users\\hp\\anaconda3\\lib\\site-packages (from trio~=0.17->selenium) (2.4.0)\n",
      "Requirement already satisfied: cffi>=1.14 in c:\\users\\hp\\anaconda3\\lib\\site-packages (from trio~=0.17->selenium) (1.14.6)\n",
      "Requirement already satisfied: pycparser in c:\\users\\hp\\anaconda3\\lib\\site-packages (from cffi>=1.14->trio~=0.17->selenium) (2.20)\n",
      "Requirement already satisfied: wsproto>=0.14 in c:\\users\\hp\\anaconda3\\lib\\site-packages (from trio-websocket~=0.9->selenium) (1.1.0)\n",
      "Requirement already satisfied: pyOpenSSL>=0.14 in c:\\users\\hp\\anaconda3\\lib\\site-packages (from urllib3[secure,socks]~=1.26->selenium) (21.0.0)\n",
      "Requirement already satisfied: cryptography>=1.3.4 in c:\\users\\hp\\anaconda3\\lib\\site-packages (from urllib3[secure,socks]~=1.26->selenium) (3.4.8)\n",
      "Requirement already satisfied: certifi in c:\\users\\hp\\anaconda3\\lib\\site-packages (from urllib3[secure,socks]~=1.26->selenium) (2021.10.8)\n",
      "Requirement already satisfied: PySocks!=1.5.7,<2.0,>=1.5.6 in c:\\users\\hp\\anaconda3\\lib\\site-packages (from urllib3[secure,socks]~=1.26->selenium) (1.7.1)\n",
      "Requirement already satisfied: six>=1.5.2 in c:\\users\\hp\\anaconda3\\lib\\site-packages (from pyOpenSSL>=0.14->urllib3[secure,socks]~=1.26->selenium) (1.16.0)\n",
      "Requirement already satisfied: h11<1,>=0.9.0 in c:\\users\\hp\\anaconda3\\lib\\site-packages (from wsproto>=0.14->trio-websocket~=0.9->selenium) (0.13.0)\n"
     ]
    }
   ],
   "source": [
    "!pip install bs4\n",
    "!pip install requests\n",
    "!pip install selenium"
   ]
  },
  {
   "cell_type": "code",
   "execution_count": 2,
   "id": "0f242ed0",
   "metadata": {},
   "outputs": [],
   "source": [
    "import selenium\n",
    "import pandas as pd\n",
    "from selenium import webdriver\n",
    "import warnings\n",
    "warnings.filterwarnings('ignore')\n",
    "from selenium.common.exceptions import StaleElementReferenceException, NoSuchElementException\n",
    "from selenium.webdriver.common.by import By\n",
    "import time\n",
    "from bs4 import BeautifulSoup\n",
    "import requests"
   ]
  },
  {
   "cell_type": "code",
   "execution_count": 3,
   "id": "270d7294",
   "metadata": {},
   "outputs": [],
   "source": [
    "driver=webdriver.Chrome(r\"C:\\Users\\hp\\Downloads\\zipfile\\chromedriver.exe\")"
   ]
  },
  {
   "cell_type": "code",
   "execution_count": 7,
   "id": "a322b2d5",
   "metadata": {},
   "outputs": [],
   "source": [
    "driver.get(\"http://statisticstimes.com/\")"
   ]
  },
  {
   "cell_type": "code",
   "execution_count": 8,
   "id": "55f21aee",
   "metadata": {},
   "outputs": [],
   "source": [
    "economy=driver.find_element(By.XPATH,'/html/body/div[2]/div[1]/div[2]/div[2]/button')\n",
    "economy.click()"
   ]
  },
  {
   "cell_type": "code",
   "execution_count": 9,
   "id": "a9b1e291",
   "metadata": {},
   "outputs": [],
   "source": [
    "country=driver.find_element(By.XPATH,'/html/body/div[2]/div[1]/div[2]/div[2]/div/a[3]')\n",
    "country.click()"
   ]
  },
  {
   "cell_type": "code",
   "execution_count": 11,
   "id": "62438349",
   "metadata": {},
   "outputs": [],
   "source": [
    "gdp=driver.find_element(By.XPATH,'/html/body/div[2]/div[2]/div[2]/ul/li[1]/a')\n",
    "gdp.click()"
   ]
  },
  {
   "cell_type": "code",
   "execution_count": 100,
   "id": "4816b4ad",
   "metadata": {},
   "outputs": [],
   "source": [
    "Rank=[]\n",
    "rank=driver.find_elements(By.XPATH,'//table[@class=\"display dataTable\"]/table')\n",
    "for i in rank:\n",
    "    rank=i.text\n",
    "    Rank.append(rank)"
   ]
  },
  {
   "cell_type": "code",
   "execution_count": 101,
   "id": "bdb2a20d",
   "metadata": {},
   "outputs": [
    {
     "name": "stdout",
     "output_type": "stream",
     "text": [
      "0\n"
     ]
    }
   ],
   "source": [
    "print(len(rank))"
   ]
  },
  {
   "cell_type": "markdown",
   "id": "bd1de300",
   "metadata": {},
   "source": [
    "# 6. Scrape the details of top 100 songs on billiboard.com."
   ]
  },
  {
   "cell_type": "code",
   "execution_count": 1,
   "id": "5a18dc8f",
   "metadata": {},
   "outputs": [
    {
     "name": "stdout",
     "output_type": "stream",
     "text": [
      "Requirement already satisfied: bs4 in c:\\users\\hp\\anaconda3\\lib\\site-packages (0.0.1)\n",
      "Requirement already satisfied: beautifulsoup4 in c:\\users\\hp\\anaconda3\\lib\\site-packages (from bs4) (4.10.0)\n",
      "Requirement already satisfied: soupsieve>1.2 in c:\\users\\hp\\anaconda3\\lib\\site-packages (from beautifulsoup4->bs4) (2.2.1)\n",
      "Requirement already satisfied: requests in c:\\users\\hp\\anaconda3\\lib\\site-packages (2.26.0)\n",
      "Requirement already satisfied: idna<4,>=2.5 in c:\\users\\hp\\anaconda3\\lib\\site-packages (from requests) (3.2)\n",
      "Requirement already satisfied: urllib3<1.27,>=1.21.1 in c:\\users\\hp\\anaconda3\\lib\\site-packages (from requests) (1.26.7)\n",
      "Requirement already satisfied: certifi>=2017.4.17 in c:\\users\\hp\\anaconda3\\lib\\site-packages (from requests) (2021.10.8)\n",
      "Requirement already satisfied: charset-normalizer~=2.0.0 in c:\\users\\hp\\anaconda3\\lib\\site-packages (from requests) (2.0.4)\n",
      "Requirement already satisfied: selenium in c:\\users\\hp\\anaconda3\\lib\\site-packages (4.4.0)\n",
      "Requirement already satisfied: trio-websocket~=0.9 in c:\\users\\hp\\anaconda3\\lib\\site-packages (from selenium) (0.9.2)\n",
      "Requirement already satisfied: urllib3[secure,socks]~=1.26 in c:\\users\\hp\\anaconda3\\lib\\site-packages (from selenium) (1.26.7)\n",
      "Requirement already satisfied: trio~=0.17 in c:\\users\\hp\\anaconda3\\lib\\site-packages (from selenium) (0.21.0)\n",
      "Requirement already satisfied: attrs>=19.2.0 in c:\\users\\hp\\anaconda3\\lib\\site-packages (from trio~=0.17->selenium) (21.2.0)\n",
      "Requirement already satisfied: sniffio in c:\\users\\hp\\anaconda3\\lib\\site-packages (from trio~=0.17->selenium) (1.2.0)\n",
      "Requirement already satisfied: idna in c:\\users\\hp\\anaconda3\\lib\\site-packages (from trio~=0.17->selenium) (3.2)\n",
      "Requirement already satisfied: async-generator>=1.9 in c:\\users\\hp\\anaconda3\\lib\\site-packages (from trio~=0.17->selenium) (1.10)\n",
      "Requirement already satisfied: sortedcontainers in c:\\users\\hp\\anaconda3\\lib\\site-packages (from trio~=0.17->selenium) (2.4.0)\n",
      "Requirement already satisfied: cffi>=1.14 in c:\\users\\hp\\anaconda3\\lib\\site-packages (from trio~=0.17->selenium) (1.14.6)\n",
      "Requirement already satisfied: outcome in c:\\users\\hp\\anaconda3\\lib\\site-packages (from trio~=0.17->selenium) (1.2.0)\n",
      "Requirement already satisfied: pycparser in c:\\users\\hp\\anaconda3\\lib\\site-packages (from cffi>=1.14->trio~=0.17->selenium) (2.20)\n",
      "Requirement already satisfied: wsproto>=0.14 in c:\\users\\hp\\anaconda3\\lib\\site-packages (from trio-websocket~=0.9->selenium) (1.1.0)\n",
      "Requirement already satisfied: PySocks!=1.5.7,<2.0,>=1.5.6 in c:\\users\\hp\\anaconda3\\lib\\site-packages (from urllib3[secure,socks]~=1.26->selenium) (1.7.1)\n",
      "Requirement already satisfied: pyOpenSSL>=0.14 in c:\\users\\hp\\anaconda3\\lib\\site-packages (from urllib3[secure,socks]~=1.26->selenium) (21.0.0)\n",
      "Requirement already satisfied: cryptography>=1.3.4 in c:\\users\\hp\\anaconda3\\lib\\site-packages (from urllib3[secure,socks]~=1.26->selenium) (3.4.8)\n",
      "Requirement already satisfied: certifi in c:\\users\\hp\\anaconda3\\lib\\site-packages (from urllib3[secure,socks]~=1.26->selenium) (2021.10.8)\n",
      "Requirement already satisfied: six>=1.5.2 in c:\\users\\hp\\anaconda3\\lib\\site-packages (from pyOpenSSL>=0.14->urllib3[secure,socks]~=1.26->selenium) (1.16.0)\n",
      "Requirement already satisfied: h11<1,>=0.9.0 in c:\\users\\hp\\anaconda3\\lib\\site-packages (from wsproto>=0.14->trio-websocket~=0.9->selenium) (0.13.0)\n"
     ]
    }
   ],
   "source": [
    "!pip install bs4\n",
    "!pip install requests\n",
    "!pip install selenium"
   ]
  },
  {
   "cell_type": "code",
   "execution_count": 2,
   "id": "859db26a",
   "metadata": {},
   "outputs": [],
   "source": [
    "import selenium\n",
    "import pandas as pd\n",
    "from selenium import webdriver\n",
    "import warnings\n",
    "warnings.filterwarnings('ignore')\n",
    "from selenium.common.exceptions import StaleElementReferenceException, NoSuchElementException\n",
    "from selenium.webdriver.common.by import By\n",
    "import time\n",
    "from bs4 import BeautifulSoup\n",
    "import requests"
   ]
  },
  {
   "cell_type": "code",
   "execution_count": 3,
   "id": "0e1a9cef",
   "metadata": {},
   "outputs": [],
   "source": [
    "driver=webdriver.Chrome(r\"C:\\Users\\hp\\Downloads\\zipfile\\chromedriver.exe\")"
   ]
  },
  {
   "cell_type": "code",
   "execution_count": 4,
   "id": "26334e8d",
   "metadata": {},
   "outputs": [],
   "source": [
    "driver.get(\"https:/www.billboard.com/\")"
   ]
  },
  {
   "cell_type": "code",
   "execution_count": 5,
   "id": "39fa40bd",
   "metadata": {},
   "outputs": [],
   "source": [
    "search=driver.find_element(By.XPATH,'/html/body/div[3]/header/div[2]/div/nav/ul/li[1]/a')\n",
    "search.click()"
   ]
  },
  {
   "cell_type": "code",
   "execution_count": 16,
   "id": "43d7963f",
   "metadata": {},
   "outputs": [],
   "source": [
    "Song=[]\n",
    "name=driver.find_elements(By.XPATH,'//li[@class=\"o-chart-results-list__item // lrv-u-flex-grow-1 lrv-u-flex lrv-u-flex-direction-column lrv-u-justify-content-center lrv-u-border-b-1 u-border-b-0@mobile-max lrv-u-border-color-grey-light  lrv-u-padding-l-1@mobile-max\"]//h3')\n",
    "for i in name:\n",
    "    name=i.text\n",
    "    Song.append(name)\n",
    "name=driver.find_elements(By.XPATH,'//li[@class=\"o-chart-results-list__item // lrv-u-flex-grow-1 lrv-u-flex lrv-u-flex-direction-column lrv-u-justify-content-center lrv-u-border-b-1 u-border-b-0@mobile-max lrv-u-border-color-grey-light lrv-u-padding-l-050 lrv-u-padding-l-1@mobile-max\"]/h3')\n",
    "for i in name:\n",
    "    name=i.text\n",
    "    Song.append(name)"
   ]
  },
  {
   "cell_type": "code",
   "execution_count": 19,
   "id": "bdf34640",
   "metadata": {},
   "outputs": [
    {
     "name": "stdout",
     "output_type": "stream",
     "text": [
      "100\n"
     ]
    }
   ],
   "source": [
    "print(len(Song))"
   ]
  },
  {
   "cell_type": "code",
   "execution_count": 21,
   "id": "eb1c11c5",
   "metadata": {},
   "outputs": [
    {
     "data": {
      "text/plain": [
       "['As It Was',\n",
       " 'Bad Habit',\n",
       " 'Late Night Talking',\n",
       " 'Sunroof',\n",
       " 'About Damn Time',\n",
       " 'I Like You (A Happier Song)',\n",
       " 'Super Freaky Girl',\n",
       " \"I Ain't Worried\",\n",
       " 'Running Up That Hill (A Deal With God)',\n",
       " 'You Proof',\n",
       " 'Wait For U',\n",
       " 'Me Porto Bonito',\n",
       " 'Titi Me Pregunto',\n",
       " 'The Kind Of Love We Make',\n",
       " 'Break My Soul',\n",
       " 'First Class',\n",
       " 'Wasted On You',\n",
       " 'Heat Waves',\n",
       " 'She Had Me At Heads Carolina',\n",
       " 'Vegas',\n",
       " 'Jimmy Cooks',\n",
       " 'Stay',\n",
       " 'Hold Me Closer',\n",
       " '5 Foot 9',\n",
       " 'Detox',\n",
       " 'Glimpse Of Us',\n",
       " 'Last Night Lonely',\n",
       " 'Moscow Mule',\n",
       " 'Big Energy',\n",
       " 'Staying Alive',\n",
       " 'Betty (Get Money)',\n",
       " 'Something In The Orange',\n",
       " 'Ghost',\n",
       " 'Shivers',\n",
       " 'In A Minute',\n",
       " 'Rock And A Hard Place',\n",
       " 'Left And Right',\n",
       " 'Efecto',\n",
       " 'Son Of A Sinner',\n",
       " 'Numb',\n",
       " 'Fall In Love',\n",
       " 'Talk',\n",
       " 'God Did',\n",
       " 'Provenza',\n",
       " 'Unstoppable',\n",
       " \"I'm Good (Blue)\",\n",
       " 'Numb Little Bug',\n",
       " 'Bones',\n",
       " 'Dah Dah DahDah',\n",
       " 'Victoria’s Secret',\n",
       " 'Gatubela',\n",
       " 'Die For You',\n",
       " 'Last Last',\n",
       " 'Truth About You',\n",
       " 'Hot Shit',\n",
       " 'Free Mind',\n",
       " 'Sleazy Flow',\n",
       " 'So Good',\n",
       " 'With A Woman You Love',\n",
       " 'Like I Love Country Music',\n",
       " 'Wishful Drinking',\n",
       " 'Party',\n",
       " 'Despecha',\n",
       " \"F.N.F. (Let's Go)\",\n",
       " 'Golden Hour',\n",
       " 'Ojitos Lindos',\n",
       " 'Pink Venom',\n",
       " 'Beat The Odds',\n",
       " 'Sticky',\n",
       " 'Pick Me Up',\n",
       " 'Whiskey On You',\n",
       " 'Despues de La Playa',\n",
       " 'Beautiful',\n",
       " 'She Likes It',\n",
       " 'Until I Found You',\n",
       " 'Ghost Story',\n",
       " 'Romantic Homicide',\n",
       " '2 Be Loved (Am I Ready)',\n",
       " 'Where It Ends',\n",
       " 'Alone',\n",
       " 'Neverita',\n",
       " 'All Mine',\n",
       " 'Tarot',\n",
       " 'What My World Spins Around',\n",
       " 'Half Of Me',\n",
       " 'La Bachata',\n",
       " 'Music For A Sushi Restaurant',\n",
       " \"Don't Come Lookin'\",\n",
       " 'Soul',\n",
       " 'Bad Decisions',\n",
       " 'Calm Down',\n",
       " 'Puffin On Zootiez',\n",
       " 'Snap',\n",
       " 'Hotel Lobby (Unc And Phew)',\n",
       " 'Bzrp Music Sessions, Vol. 52',\n",
       " 'Thought You Should Know',\n",
       " 'Country On',\n",
       " 'Static',\n",
       " 'Billie Eilish.',\n",
       " 'Sin Fin']"
      ]
     },
     "execution_count": 21,
     "metadata": {},
     "output_type": "execute_result"
    }
   ],
   "source": [
    "Song"
   ]
  },
  {
   "cell_type": "code",
   "execution_count": 22,
   "id": "b08f68ca",
   "metadata": {},
   "outputs": [],
   "source": [
    "Artist=[]\n",
    "A_name=driver.find_elements(By.XPATH,'//li[@class=\"o-chart-results-list__item // lrv-u-flex-grow-1 lrv-u-flex lrv-u-flex-direction-column lrv-u-justify-content-center lrv-u-border-b-1 u-border-b-0@mobile-max lrv-u-border-color-grey-light  lrv-u-padding-l-1@mobile-max\"]//span')\n",
    "for i in A_name:\n",
    "    A_name=i.text\n",
    "    Artist.append(A_name)\n",
    "A_name=driver.find_elements(By.XPATH,'//li[@class=\"o-chart-results-list__item // lrv-u-flex-grow-1 lrv-u-flex lrv-u-flex-direction-column lrv-u-justify-content-center lrv-u-border-b-1 u-border-b-0@mobile-max lrv-u-border-color-grey-light lrv-u-padding-l-050 lrv-u-padding-l-1@mobile-max\"]/span')\n",
    "for i in A_name:\n",
    "    A_name=i.text\n",
    "    Artist.append(A_name)"
   ]
  },
  {
   "cell_type": "code",
   "execution_count": 23,
   "id": "7e1a0171",
   "metadata": {},
   "outputs": [
    {
     "name": "stdout",
     "output_type": "stream",
     "text": [
      "100\n"
     ]
    }
   ],
   "source": [
    "print(len(Artist))"
   ]
  },
  {
   "cell_type": "code",
   "execution_count": 24,
   "id": "49261b1b",
   "metadata": {},
   "outputs": [
    {
     "data": {
      "text/plain": [
       "['Harry Styles',\n",
       " 'Steve Lacy',\n",
       " 'Harry Styles',\n",
       " 'Nicky Youre & dazy',\n",
       " 'Lizzo',\n",
       " 'Post Malone Featuring Doja Cat',\n",
       " 'Nicki Minaj',\n",
       " 'OneRepublic',\n",
       " 'Kate Bush',\n",
       " 'Morgan Wallen',\n",
       " 'Future Featuring Drake & Tems',\n",
       " 'Bad Bunny & Chencho Corleone',\n",
       " 'Bad Bunny',\n",
       " 'Luke Combs',\n",
       " 'Beyonce',\n",
       " 'Jack Harlow',\n",
       " 'Morgan Wallen',\n",
       " 'Glass Animals',\n",
       " 'Cole Swindell',\n",
       " 'Doja Cat',\n",
       " 'Drake Featuring 21 Savage',\n",
       " 'The Kid LAROI & Justin Bieber',\n",
       " 'Elton John & Britney Spears',\n",
       " 'Tyler Hubbard',\n",
       " 'Lil Baby',\n",
       " 'Joji',\n",
       " 'Jon Pardi',\n",
       " 'Bad Bunny',\n",
       " 'Latto',\n",
       " 'DJ Khaled Featuring Drake & Lil Baby',\n",
       " 'Yung Gravy',\n",
       " 'Zach Bryan',\n",
       " 'Justin Bieber',\n",
       " 'Ed Sheeran',\n",
       " 'Lil Baby',\n",
       " 'Bailey Zimmerman',\n",
       " 'Charlie Puth Featuring Jung Kook',\n",
       " 'Bad Bunny',\n",
       " 'Jelly Roll',\n",
       " 'Marshmello & Khalid',\n",
       " 'Bailey Zimmerman',\n",
       " 'Yeat',\n",
       " 'DJ Khaled Featuring Rick Ross, Lil Wayne, JAY-Z, John Legend & Fridayy',\n",
       " 'Karol G',\n",
       " 'Sia',\n",
       " 'David Guetta & Bebe Rexha',\n",
       " 'Em Beihold',\n",
       " 'Imagine Dragons',\n",
       " 'Nardo Wick',\n",
       " 'Jax',\n",
       " 'Karol G x Maldy',\n",
       " 'The Weeknd',\n",
       " 'Burna Boy',\n",
       " 'Mitchell Tenpenny',\n",
       " 'Cardi B, Ye & Lil Durk',\n",
       " 'Tems',\n",
       " 'SleazyWorld Go Featuring Lil Baby',\n",
       " 'Halsey',\n",
       " 'Justin Moore',\n",
       " 'Kane Brown',\n",
       " 'Ingrid Andress With Sam Hunt',\n",
       " 'Bad Bunny & Rauw Alejandro',\n",
       " 'Rosalia',\n",
       " 'Hitkidd & GloRilla',\n",
       " 'JVKE',\n",
       " 'Bad Bunny & Bomba Estereo',\n",
       " 'BLACKPINK',\n",
       " 'Lil Tjay',\n",
       " 'Drake',\n",
       " 'Gabby Barrett',\n",
       " 'Nate Smith',\n",
       " 'Bad Bunny',\n",
       " 'DJ Khaled Featuring Future & SZA',\n",
       " 'Russell Dickerson & Jake Scott',\n",
       " 'Stephen Sanchez',\n",
       " 'Carrie Underwood',\n",
       " 'd4vd',\n",
       " 'Lizzo',\n",
       " 'Bailey Zimmerman',\n",
       " 'Rod Wave',\n",
       " 'Bad Bunny',\n",
       " 'Brent Faiyaz',\n",
       " 'Bad Bunny & Jhay Cortez',\n",
       " 'Jordan Davis',\n",
       " 'Thomas Rhett Featuring Riley Green',\n",
       " 'Manuel Turizo',\n",
       " 'Harry Styles',\n",
       " 'Jackson Dean',\n",
       " 'Lee Brice',\n",
       " 'benny blanco, BTS & Snoop Dogg',\n",
       " 'Rema & Selena Gomez',\n",
       " 'Future',\n",
       " 'Rosa Linn',\n",
       " 'Quavo & Takeoff',\n",
       " 'Bizarrap & Quevedo',\n",
       " 'Morgan Wallen',\n",
       " 'Luke Bryan',\n",
       " 'Steve Lacy',\n",
       " 'Armani White',\n",
       " 'Romeo Santos & Justin Timberlake']"
      ]
     },
     "execution_count": 24,
     "metadata": {},
     "output_type": "execute_result"
    }
   ],
   "source": [
    "Artist"
   ]
  },
  {
   "cell_type": "code",
   "execution_count": 38,
   "id": "2c1b1ebf",
   "metadata": {},
   "outputs": [],
   "source": [
    "Last_week_rank=[]\n",
    "last_rank=driver.find_elements(By.XPATH,'//li[@class=\"o-chart-results-list__item // a-chart-color u-width-72 u-width-55@mobile-max u-width-55@tablet-only lrv-u-flex lrv-u-flex-shrink-0 lrv-u-align-items-center lrv-u-justify-content-center lrv-u-border-b-1 u-border-b-0@mobile-max lrv-u-border-color-grey-light u-background-color-white-064@mobile-max u-hidden@mobile-max\"]/span')\n",
    "for i in last_rank:\n",
    "    last_rank=i.text\n",
    "    Last_week_rank.append(last_rank)"
   ]
  },
  {
   "cell_type": "code",
   "execution_count": 39,
   "id": "e4f04663",
   "metadata": {},
   "outputs": [
    {
     "name": "stdout",
     "output_type": "stream",
     "text": [
      "200\n"
     ]
    }
   ],
   "source": [
    "print(len(Last_week_rank))"
   ]
  },
  {
   "cell_type": "code",
   "execution_count": 40,
   "id": "1968fa62",
   "metadata": {},
   "outputs": [
    {
     "data": {
      "text/plain": [
       "['1',\n",
       " '23',\n",
       " '2',\n",
       " '10',\n",
       " '12',\n",
       " '16',\n",
       " '5',\n",
       " '15',\n",
       " '3',\n",
       " '21',\n",
       " '8',\n",
       " '14',\n",
       " '7',\n",
       " '4',\n",
       " '14',\n",
       " '13',\n",
       " '4',\n",
       " '35',\n",
       " '13',\n",
       " '17',\n",
       " '10',\n",
       " '19',\n",
       " '11',\n",
       " '18',\n",
       " '16',\n",
       " '18',\n",
       " '15',\n",
       " '12',\n",
       " '9',\n",
       " '12',\n",
       " '18',\n",
       " '22',\n",
       " '20',\n",
       " '43',\n",
       " '19',\n",
       " '86',\n",
       " '22',\n",
       " '15',\n",
       " '25',\n",
       " '14',\n",
       " '23',\n",
       " '12',\n",
       " '24',\n",
       " '61',\n",
       " '6',\n",
       " '2',\n",
       " '28',\n",
       " '13',\n",
       " '-',\n",
       " '1',\n",
       " '26',\n",
       " '13',\n",
       " '27',\n",
       " '15',\n",
       " '30',\n",
       " '18',\n",
       " '32',\n",
       " '46',\n",
       " '21',\n",
       " '5',\n",
       " '33',\n",
       " '9',\n",
       " '42',\n",
       " '20',\n",
       " '34',\n",
       " '50',\n",
       " '35',\n",
       " '52',\n",
       " '40',\n",
       " '22',\n",
       " '38',\n",
       " '13',\n",
       " '47',\n",
       " '11',\n",
       " '39',\n",
       " '18',\n",
       " '43',\n",
       " '10',\n",
       " '44',\n",
       " '10',\n",
       " '45',\n",
       " '19',\n",
       " '-',\n",
       " '1',\n",
       " '17',\n",
       " '2',\n",
       " '46',\n",
       " '20',\n",
       " '50',\n",
       " '10',\n",
       " '81',\n",
       " '2',\n",
       " '48',\n",
       " '32',\n",
       " '58',\n",
       " '16',\n",
       " '54',\n",
       " '6',\n",
       " '59',\n",
       " '6',\n",
       " '37',\n",
       " '2',\n",
       " '69',\n",
       " '6',\n",
       " '67',\n",
       " '9',\n",
       " '70',\n",
       " '8',\n",
       " '60',\n",
       " '10',\n",
       " '61',\n",
       " '8',\n",
       " '62',\n",
       " '15',\n",
       " '63',\n",
       " '13',\n",
       " '64',\n",
       " '7',\n",
       " '52',\n",
       " '16',\n",
       " '51',\n",
       " '10',\n",
       " '65',\n",
       " '18',\n",
       " '75',\n",
       " '5',\n",
       " '73',\n",
       " '15',\n",
       " '71',\n",
       " '2',\n",
       " '68',\n",
       " '18',\n",
       " '53',\n",
       " '3',\n",
       " '36',\n",
       " '2',\n",
       " '56',\n",
       " '12',\n",
       " '80',\n",
       " '7',\n",
       " '82',\n",
       " '12',\n",
       " '74',\n",
       " '18',\n",
       " '29',\n",
       " '2',\n",
       " '84',\n",
       " '23',\n",
       " '87',\n",
       " '10',\n",
       " '85',\n",
       " '16',\n",
       " '-',\n",
       " '1',\n",
       " '97',\n",
       " '4',\n",
       " '72',\n",
       " '3',\n",
       " '76',\n",
       " '4',\n",
       " '79',\n",
       " '9',\n",
       " '88',\n",
       " '5',\n",
       " '83',\n",
       " '18',\n",
       " '93',\n",
       " '4',\n",
       " '92',\n",
       " '3',\n",
       " '95',\n",
       " '3',\n",
       " '-',\n",
       " '8',\n",
       " '-',\n",
       " '2',\n",
       " '-',\n",
       " '2',\n",
       " '89',\n",
       " '5',\n",
       " '-',\n",
       " '1',\n",
       " '91',\n",
       " '19',\n",
       " '-',\n",
       " '2',\n",
       " '94',\n",
       " '15',\n",
       " '100',\n",
       " '5',\n",
       " '96',\n",
       " '18',\n",
       " '-',\n",
       " '3',\n",
       " '-',\n",
       " '1',\n",
       " '-',\n",
       " '1',\n",
       " '-',\n",
       " '1']"
      ]
     },
     "execution_count": 40,
     "metadata": {},
     "output_type": "execute_result"
    }
   ],
   "source": [
    "Last_week_rank"
   ]
  },
  {
   "cell_type": "code",
   "execution_count": null,
   "id": "97dc8daa",
   "metadata": {},
   "outputs": [],
   "source": []
  },
  {
   "cell_type": "code",
   "execution_count": 41,
   "id": "68dcd06a",
   "metadata": {},
   "outputs": [],
   "source": [
    "Peak_rank=[]\n",
    "rank=driver.find_elements(By.XPATH,'//li[@class=\"o-chart-results-list__item // a-chart-bg-color a-chart-color u-width-72 u-width-55@mobile-max u-width-55@tablet-only lrv-u-flex lrv-u-flex-shrink-0 lrv-u-align-items-center lrv-u-justify-content-center lrv-u-background-color-grey-lightest lrv-u-border-b-1 u-border-b-0@mobile-max lrv-u-border-color-grey-light u-hidden@mobile-max\"]/span')\n",
    "for i in rank:\n",
    "    rank=i.text\n",
    "    Peak_rank.append(rank)"
   ]
  },
  {
   "cell_type": "code",
   "execution_count": 42,
   "id": "fec670fb",
   "metadata": {},
   "outputs": [
    {
     "name": "stdout",
     "output_type": "stream",
     "text": [
      "100\n"
     ]
    }
   ],
   "source": [
    "print(len(Peak_rank))"
   ]
  },
  {
   "cell_type": "code",
   "execution_count": 43,
   "id": "737afa3f",
   "metadata": {},
   "outputs": [
    {
     "data": {
      "text/plain": [
       "['1',\n",
       " '2',\n",
       " '3',\n",
       " '4',\n",
       " '1',\n",
       " '6',\n",
       " '1',\n",
       " '8',\n",
       " '3',\n",
       " '6',\n",
       " '1',\n",
       " '6',\n",
       " '5',\n",
       " '13',\n",
       " '1',\n",
       " '1',\n",
       " '9',\n",
       " '1',\n",
       " '18',\n",
       " '20',\n",
       " '1',\n",
       " '1',\n",
       " '6',\n",
       " '24',\n",
       " '25',\n",
       " '8',\n",
       " '27',\n",
       " '4',\n",
       " '3',\n",
       " '5',\n",
       " '31',\n",
       " '30',\n",
       " '5',\n",
       " '4',\n",
       " '14',\n",
       " '24',\n",
       " '22',\n",
       " '34',\n",
       " '39',\n",
       " '40',\n",
       " '31',\n",
       " '42',\n",
       " '17',\n",
       " '25',\n",
       " '45',\n",
       " '46',\n",
       " '18',\n",
       " '48',\n",
       " '48',\n",
       " '50',\n",
       " '37',\n",
       " '43',\n",
       " '53',\n",
       " '54',\n",
       " '13',\n",
       " '56',\n",
       " '47',\n",
       " '54',\n",
       " '59',\n",
       " '26',\n",
       " '51',\n",
       " '14',\n",
       " '63',\n",
       " '49',\n",
       " '65',\n",
       " '26',\n",
       " '22',\n",
       " '36',\n",
       " '6',\n",
       " '69',\n",
       " '65',\n",
       " '6',\n",
       " '29',\n",
       " '63',\n",
       " '75',\n",
       " '61',\n",
       " '77',\n",
       " '78',\n",
       " '32',\n",
       " '21',\n",
       " '31',\n",
       " '42',\n",
       " '18',\n",
       " '84',\n",
       " '85',\n",
       " '86',\n",
       " '8',\n",
       " '88',\n",
       " '89',\n",
       " '10',\n",
       " '91',\n",
       " '4',\n",
       " '93',\n",
       " '59',\n",
       " '82',\n",
       " '12',\n",
       " '76',\n",
       " '98',\n",
       " '99',\n",
       " '100']"
      ]
     },
     "execution_count": 43,
     "metadata": {},
     "output_type": "execute_result"
    }
   ],
   "source": [
    "Peak_rank"
   ]
  },
  {
   "cell_type": "code",
   "execution_count": 44,
   "id": "1a1ad9bd",
   "metadata": {},
   "outputs": [],
   "source": [
    "driver.close()"
   ]
  },
  {
   "cell_type": "markdown",
   "id": "9846c55c",
   "metadata": {},
   "source": [
    "# 7. Scrape the details of Data science recruiters from naukri.com."
   ]
  },
  {
   "cell_type": "code",
   "execution_count": 45,
   "id": "044bfdeb",
   "metadata": {},
   "outputs": [
    {
     "name": "stdout",
     "output_type": "stream",
     "text": [
      "Requirement already satisfied: bs4 in c:\\users\\hp\\anaconda3\\lib\\site-packages (0.0.1)\n",
      "Requirement already satisfied: beautifulsoup4 in c:\\users\\hp\\anaconda3\\lib\\site-packages (from bs4) (4.10.0)\n",
      "Requirement already satisfied: soupsieve>1.2 in c:\\users\\hp\\anaconda3\\lib\\site-packages (from beautifulsoup4->bs4) (2.2.1)\n",
      "Requirement already satisfied: requests in c:\\users\\hp\\anaconda3\\lib\\site-packages (2.26.0)\n",
      "Requirement already satisfied: certifi>=2017.4.17 in c:\\users\\hp\\anaconda3\\lib\\site-packages (from requests) (2021.10.8)\n",
      "Requirement already satisfied: idna<4,>=2.5 in c:\\users\\hp\\anaconda3\\lib\\site-packages (from requests) (3.2)\n",
      "Requirement already satisfied: charset-normalizer~=2.0.0 in c:\\users\\hp\\anaconda3\\lib\\site-packages (from requests) (2.0.4)\n",
      "Requirement already satisfied: urllib3<1.27,>=1.21.1 in c:\\users\\hp\\anaconda3\\lib\\site-packages (from requests) (1.26.7)\n",
      "Requirement already satisfied: selenium in c:\\users\\hp\\anaconda3\\lib\\site-packages (4.4.0)\n",
      "Requirement already satisfied: trio~=0.17 in c:\\users\\hp\\anaconda3\\lib\\site-packages (from selenium) (0.21.0)\n",
      "Requirement already satisfied: trio-websocket~=0.9 in c:\\users\\hp\\anaconda3\\lib\\site-packages (from selenium) (0.9.2)\n",
      "Requirement already satisfied: urllib3[secure,socks]~=1.26 in c:\\users\\hp\\anaconda3\\lib\\site-packages (from selenium) (1.26.7)\n",
      "Requirement already satisfied: idna in c:\\users\\hp\\anaconda3\\lib\\site-packages (from trio~=0.17->selenium) (3.2)\n",
      "Requirement already satisfied: async-generator>=1.9 in c:\\users\\hp\\anaconda3\\lib\\site-packages (from trio~=0.17->selenium) (1.10)\n",
      "Requirement already satisfied: outcome in c:\\users\\hp\\anaconda3\\lib\\site-packages (from trio~=0.17->selenium) (1.2.0)\n",
      "Requirement already satisfied: cffi>=1.14 in c:\\users\\hp\\anaconda3\\lib\\site-packages (from trio~=0.17->selenium) (1.14.6)\n",
      "Requirement already satisfied: sortedcontainers in c:\\users\\hp\\anaconda3\\lib\\site-packages (from trio~=0.17->selenium) (2.4.0)\n",
      "Requirement already satisfied: sniffio in c:\\users\\hp\\anaconda3\\lib\\site-packages (from trio~=0.17->selenium) (1.2.0)\n",
      "Requirement already satisfied: attrs>=19.2.0 in c:\\users\\hp\\anaconda3\\lib\\site-packages (from trio~=0.17->selenium) (21.2.0)\n",
      "Requirement already satisfied: pycparser in c:\\users\\hp\\anaconda3\\lib\\site-packages (from cffi>=1.14->trio~=0.17->selenium) (2.20)\n",
      "Requirement already satisfied: wsproto>=0.14 in c:\\users\\hp\\anaconda3\\lib\\site-packages (from trio-websocket~=0.9->selenium) (1.1.0)\n",
      "Requirement already satisfied: PySocks!=1.5.7,<2.0,>=1.5.6 in c:\\users\\hp\\anaconda3\\lib\\site-packages (from urllib3[secure,socks]~=1.26->selenium) (1.7.1)\n",
      "Requirement already satisfied: pyOpenSSL>=0.14 in c:\\users\\hp\\anaconda3\\lib\\site-packages (from urllib3[secure,socks]~=1.26->selenium) (21.0.0)\n",
      "Requirement already satisfied: cryptography>=1.3.4 in c:\\users\\hp\\anaconda3\\lib\\site-packages (from urllib3[secure,socks]~=1.26->selenium) (3.4.8)\n",
      "Requirement already satisfied: certifi in c:\\users\\hp\\anaconda3\\lib\\site-packages (from urllib3[secure,socks]~=1.26->selenium) (2021.10.8)\n",
      "Requirement already satisfied: six>=1.5.2 in c:\\users\\hp\\anaconda3\\lib\\site-packages (from pyOpenSSL>=0.14->urllib3[secure,socks]~=1.26->selenium) (1.16.0)\n",
      "Requirement already satisfied: h11<1,>=0.9.0 in c:\\users\\hp\\anaconda3\\lib\\site-packages (from wsproto>=0.14->trio-websocket~=0.9->selenium) (0.13.0)\n"
     ]
    }
   ],
   "source": [
    "!pip install bs4\n",
    "!pip install requests\n",
    "!pip install selenium"
   ]
  },
  {
   "cell_type": "code",
   "execution_count": 46,
   "id": "86663896",
   "metadata": {},
   "outputs": [],
   "source": [
    "import selenium\n",
    "import pandas as pd\n",
    "from selenium import webdriver\n",
    "import warnings\n",
    "warnings.filterwarnings('ignore')\n",
    "from selenium.common.exceptions import StaleElementReferenceException, NoSuchElementException\n",
    "from selenium.webdriver.common.by import By\n",
    "import time\n",
    "from bs4 import BeautifulSoup\n",
    "import requests"
   ]
  },
  {
   "cell_type": "code",
   "execution_count": 53,
   "id": "f77d5ee0",
   "metadata": {},
   "outputs": [],
   "source": [
    "driver=webdriver.Chrome(r\"C:\\Users\\hp\\Downloads\\zipfile\\chromedriver.exe\")"
   ]
  },
  {
   "cell_type": "code",
   "execution_count": 54,
   "id": "e69ac363",
   "metadata": {},
   "outputs": [],
   "source": [
    "driver.get(\"https://www.naukri.com/\")"
   ]
  },
  {
   "cell_type": "code",
   "execution_count": 55,
   "id": "bcf4ba8f",
   "metadata": {},
   "outputs": [],
   "source": [
    "search=driver.find_element(By.XPATH,'/html/body/div[1]/div[6]/div/div/div[1]/div/div/div/input')\n",
    "search.send_keys('data scientist')"
   ]
  },
  {
   "cell_type": "code",
   "execution_count": 56,
   "id": "91713622",
   "metadata": {},
   "outputs": [],
   "source": [
    "Click=driver.find_element(By.XPATH,'/html/body/div[1]/div[6]/div/div/div[6]')\n",
    "Click.click()"
   ]
  },
  {
   "cell_type": "code",
   "execution_count": 57,
   "id": "1da11cbe",
   "metadata": {},
   "outputs": [],
   "source": [
    "Name=[]\n",
    "name=driver.find_elements(By.XPATH,'//a[@class=\"title fw500 ellipsis\"]')\n",
    "for i in name:\n",
    "    name=i.text\n",
    "    Name.append(name)"
   ]
  },
  {
   "cell_type": "code",
   "execution_count": 58,
   "id": "6551778d",
   "metadata": {},
   "outputs": [
    {
     "name": "stdout",
     "output_type": "stream",
     "text": [
      "20\n"
     ]
    }
   ],
   "source": [
    "print(len(Name))"
   ]
  },
  {
   "cell_type": "code",
   "execution_count": 59,
   "id": "ff7e8ea2",
   "metadata": {},
   "outputs": [
    {
     "data": {
      "text/plain": [
       "['Job Opportunity on Data Science_ Python with Techmahindra',\n",
       " 'Assistant Manager - Data Science',\n",
       " 'Analystics & Modeling Specialist',\n",
       " 'Hiring For DATA Scientist @ NTT DATA Business Solution India',\n",
       " 'ACN - Applied Intelligence - Data & Insights - CPG - 09',\n",
       " 'Data Scientist',\n",
       " 'Data Scientist/AIML Engineer',\n",
       " 'Lead ML Scientist',\n",
       " 'Tcs Hiring For Data Scientist',\n",
       " 'Data Scientist - II',\n",
       " 'Senior Data Scientist',\n",
       " 'Data Scientist - IT',\n",
       " 'ACN - Applied Intelligence - C4DI - Sustainability - 09',\n",
       " 'Data Scientist',\n",
       " 'Data Scientist',\n",
       " 'Senior Analyst-Data Science',\n",
       " 'Senior Data Scientist',\n",
       " 'Behavioral Architect',\n",
       " 'Data Scientist / Senior Data Scientist',\n",
       " 'Hiring Data Science Intern - DataTrained Education']"
      ]
     },
     "execution_count": 59,
     "metadata": {},
     "output_type": "execute_result"
    }
   ],
   "source": [
    "Name"
   ]
  },
  {
   "cell_type": "code",
   "execution_count": 60,
   "id": "128b279a",
   "metadata": {},
   "outputs": [],
   "source": [
    "Company=[]\n",
    "company=driver.find_elements(By.XPATH,'//a[@class=\"subTitle ellipsis fleft\"]')\n",
    "for i in company:\n",
    "    company=i.text\n",
    "    Company.append(company)"
   ]
  },
  {
   "cell_type": "code",
   "execution_count": 61,
   "id": "5dd93f78",
   "metadata": {},
   "outputs": [
    {
     "name": "stdout",
     "output_type": "stream",
     "text": [
      "20\n"
     ]
    }
   ],
   "source": [
    "print(len(Company))"
   ]
  },
  {
   "cell_type": "code",
   "execution_count": 62,
   "id": "e271d024",
   "metadata": {},
   "outputs": [
    {
     "data": {
      "text/plain": [
       "['Tech Mahindra',\n",
       " 'CitiusTech',\n",
       " 'Accenture',\n",
       " 'NTT DATA Business Solutions Private Limited',\n",
       " 'Accenture',\n",
       " 'IBM',\n",
       " 'upGrad',\n",
       " 'Fractal Analytics',\n",
       " 'TATA CONSULTANCY SERVICES (TCS)',\n",
       " 'Bizongo',\n",
       " 'Baker Hughes',\n",
       " 'P&G',\n",
       " 'Accenture',\n",
       " 'GlobalLogic',\n",
       " 'GlobalLogic',\n",
       " 'Accenture',\n",
       " 'Walmart',\n",
       " 'Swiggy',\n",
       " 'Mindtree',\n",
       " 'DataTrained']"
      ]
     },
     "execution_count": 62,
     "metadata": {},
     "output_type": "execute_result"
    }
   ],
   "source": [
    "Company"
   ]
  },
  {
   "cell_type": "code",
   "execution_count": 64,
   "id": "d5dca1c6",
   "metadata": {},
   "outputs": [],
   "source": [
    "Designation=[]\n",
    "desi=driver.find_elements(By.XPATH,'//div[@class=\"job-description fs12 grey-text\"]')\n",
    "for i in desi:\n",
    "    desi=i.text\n",
    "    Designation.append(desi)"
   ]
  },
  {
   "cell_type": "code",
   "execution_count": 65,
   "id": "fda34f7f",
   "metadata": {},
   "outputs": [
    {
     "name": "stdout",
     "output_type": "stream",
     "text": [
      "20\n"
     ]
    }
   ],
   "source": [
    "print(len(Designation))"
   ]
  },
  {
   "cell_type": "code",
   "execution_count": 66,
   "id": "0c5c20ff",
   "metadata": {},
   "outputs": [
    {
     "data": {
      "text/plain": [
       "['Greetings of the Day!!!We have an opportunity on Data Science_ Python with Techmahindra...',\n",
       " 'Work with OMICs, image, med device and RWE data to power various use cases in the areas...',\n",
       " 'This role will be a part of Survey Solutions and Analytics team. The Analytics and Mode...',\n",
       " 'Dear All, We have urgent requirement for Data Science @ NTT DATA Business Solution.Noti...',\n",
       " 'We are looking for a highly motivated and passionate Data Science Consultant to join Ac...',\n",
       " 'Demonstrated proficiency in multiple programming languages with a strong foundation in ...',\n",
       " 'Key Skills: Data Scientist, Fresher, Engineering, Data Analytics, AIML EngineerExperien...',\n",
       " '10 years experience in data science and MLAcademic degree(s) in analytical fields like ...',\n",
       " 'Programming exp in Python, Spark and Experience in NLP with dashboard tools such as Pow...',\n",
       " 'Have experience with working and deploying state-of-the-art analytics solutions aligned...',\n",
       " 'As a Senior Data Scientist, you will be responsible for: Contributing in development an...',\n",
       " 'We look for leaders with strong academic results in a Bachelors / Masters in Computer S...',\n",
       " 'Build client deliverables with experience in storyboarding and client problem solving B...',\n",
       " 'Bachelors in Computer Science or Math or Statistics PhD or Masters in Computer Science ...',\n",
       " 'Role:Data Scientist will create, evaluate, deploy and maintain an AI/ML driven tech. so...',\n",
       " 'Skill required: Data Science - Predictive Modeling and Analytics Designation: Senior An...',\n",
       " 'Advanced degree (Masters or PhD) in any STEM field plus three years of related experien...',\n",
       " 'Effective communication skills and the ability to present complex subjects coherently t...',\n",
       " 'Job Title: Data Scientist/ Senior Data ScientistExperience: 7 - 16 years Education: Bac...',\n",
       " '* Work with training team in Handling tickets and chats * Assist training team in condu...']"
      ]
     },
     "execution_count": 66,
     "metadata": {},
     "output_type": "execute_result"
    }
   ],
   "source": [
    "Designation"
   ]
  },
  {
   "cell_type": "code",
   "execution_count": 67,
   "id": "542c95a4",
   "metadata": {},
   "outputs": [],
   "source": [
    "Skills=[]\n",
    "skill=driver.find_elements(By.XPATH,'//li[@class=\"fleft fs12 grey-text lh16 dot\"]')\n",
    "for i in skill:\n",
    "    skill=i.text\n",
    "    Skills.append(skill)"
   ]
  },
  {
   "cell_type": "code",
   "execution_count": 68,
   "id": "e468a9b5",
   "metadata": {},
   "outputs": [
    {
     "data": {
      "text/plain": [
       "['deep learning',\n",
       " 'python',\n",
       " 'data analysis',\n",
       " 'data science',\n",
       " 'machine learning',\n",
       " 'IT Skills',\n",
       " 'Big Data',\n",
       " 'data mining',\n",
       " 'Data Science',\n",
       " 'NLP',\n",
       " 'Machine Learning',\n",
       " 'Deep Learning',\n",
       " 'Python',\n",
       " 'R',\n",
       " 'Data Modelling',\n",
       " 'Analytical',\n",
       " 'Bfsi',\n",
       " 'Consulting',\n",
       " 'Machine learning',\n",
       " 'Open source',\n",
       " 'Python',\n",
       " 'Business process',\n",
       " 'Market research',\n",
       " 'Outsourcing',\n",
       " 'Data Science',\n",
       " 'Artificial Intelligence',\n",
       " 'Machine Learning',\n",
       " 'IT Skills',\n",
       " 'Java',\n",
       " 'Python',\n",
       " 'Javascript',\n",
       " 'Big Data',\n",
       " 'Supply chain',\n",
       " 'Data management',\n",
       " 'RF',\n",
       " 'Consulting',\n",
       " 'Forecasting',\n",
       " 'Oracle',\n",
       " 'SQL',\n",
       " 'IT Skills',\n",
       " 'Consulting',\n",
       " 'Predictive modeling',\n",
       " 'SPSS',\n",
       " 'Forecasting',\n",
       " 'Analytics',\n",
       " 'IT Skills',\n",
       " 'Java',\n",
       " 'Python',\n",
       " 'Data Science',\n",
       " 'Engineering',\n",
       " 'AIML Engineer',\n",
       " 'Data Analytics',\n",
       " 'deep learning',\n",
       " 'Linux',\n",
       " 'data science',\n",
       " 'Analytical',\n",
       " 'Machine learning',\n",
       " 'Manager Technology',\n",
       " 'Research',\n",
       " 'Python',\n",
       " 'python',\n",
       " 'machine learning',\n",
       " 'Power Bi',\n",
       " 'Tableau',\n",
       " 'NLP',\n",
       " 'Spark',\n",
       " 'IT Skills',\n",
       " 'Python',\n",
       " 'Data Analytics',\n",
       " 'Java',\n",
       " 'IT Skills',\n",
       " 'Business Analytics',\n",
       " 'Risk Analytics',\n",
       " 'Artificial Intelligence',\n",
       " 'Credit Risk',\n",
       " 'Computer science',\n",
       " 'Data analysis',\n",
       " 'SAS',\n",
       " 'Coding',\n",
       " 'Machine learning',\n",
       " 'Perl',\n",
       " 'Ruby',\n",
       " 'Analytics',\n",
       " 'Training',\n",
       " 'Statistical modeling',\n",
       " 'data science',\n",
       " 'Diversity and Inclusion',\n",
       " 'Machine learning',\n",
       " 'Econometrics',\n",
       " 'Information technology',\n",
       " 'consumer goods',\n",
       " 'Business process',\n",
       " 'Data management',\n",
       " 'Consulting',\n",
       " 'Oracle',\n",
       " 'Business operations',\n",
       " 'SQL',\n",
       " 'IT Skills',\n",
       " 'Data Science',\n",
       " 'Machine Learning',\n",
       " 'SQL',\n",
       " 'Python',\n",
       " 'Jupiter',\n",
       " 'Deep Learning',\n",
       " 'IT Skills',\n",
       " 'Python',\n",
       " 'Testing',\n",
       " 'Machine Learning',\n",
       " 'Data Science',\n",
       " 'Publishing',\n",
       " 'Consulting',\n",
       " 'Predictive modeling',\n",
       " 'Data mining',\n",
       " 'Analytics',\n",
       " 'IT Skills',\n",
       " 'Python',\n",
       " 'Data Science',\n",
       " 'Linux',\n",
       " 'Python',\n",
       " 'GCP',\n",
       " 'data mining',\n",
       " 'Hadoop',\n",
       " 'Hive',\n",
       " 'Spark',\n",
       " 'Hive SQL',\n",
       " 'Economics',\n",
       " 'Architect',\n",
       " 'Data analysis',\n",
       " 'Literature',\n",
       " 'Sociology',\n",
       " 'Psychology',\n",
       " 'Conceptualization',\n",
       " 'product life cycle',\n",
       " 'deep learning',\n",
       " 'python',\n",
       " 'Cloud Services',\n",
       " 'computer vision',\n",
       " 'Azure',\n",
       " 'presentation',\n",
       " 'RDBMS',\n",
       " 'SVN',\n",
       " 'Data Science',\n",
       " 'Machine Learning',\n",
       " 'Python',\n",
       " 'Power Bi',\n",
       " 'Natural Language Processing',\n",
       " 'Advanced Excel',\n",
       " 'Tableau',\n",
       " 'Statistics']"
      ]
     },
     "execution_count": 68,
     "metadata": {},
     "output_type": "execute_result"
    }
   ],
   "source": [
    "Skills"
   ]
  },
  {
   "cell_type": "code",
   "execution_count": 70,
   "id": "3b7e1214",
   "metadata": {},
   "outputs": [],
   "source": [
    "Location=[]\n",
    "loc=driver.find_elements(By.XPATH,'//span[@class=\"ellipsis fleft fs12 lh16 \"]')\n",
    "for i in loc:\n",
    "    loc=i.text\n",
    "    Location.append(loc)"
   ]
  },
  {
   "cell_type": "code",
   "execution_count": 71,
   "id": "badc6a7c",
   "metadata": {},
   "outputs": [
    {
     "data": {
      "text/plain": [
       "['4-9 Yrs',\n",
       " 'Not disclosed',\n",
       " 'Kolkata, Hyderabad/Secunderabad, Pune, Chennai, Bangalore/Bengaluru, Delhi / NCR, Mumbai (All Areas)',\n",
       " '5-9 Yrs',\n",
       " 'Not disclosed',\n",
       " 'Mumbai, Pune, Bangalore/Bengaluru',\n",
       " '6-8 Yrs',\n",
       " 'Not disclosed',\n",
       " 'Kolkata, Mumbai, Hyderabad/Secunderabad, Pune, Chennai, Bangalore/Bengaluru, delhi ncr',\n",
       " '4-9 Yrs',\n",
       " '18,00,000 - 20,00,000 PA.',\n",
       " 'Noida, Hyderabad/Secunderabad, Pune, Gurgaon/Gurugram, Chennai, Bangalore/Bengaluru, Mumbai (All Areas)',\n",
       " '4-6 Yrs',\n",
       " 'Not disclosed',\n",
       " 'Bangalore/Bengaluru',\n",
       " '8-12 Yrs',\n",
       " 'Not disclosed',\n",
       " 'Bangalore/Bengaluru',\n",
       " '0-2 Yrs',\n",
       " '2,50,000 - 6,00,000 PA.',\n",
       " 'Mumbai, Hyderabad/Secunderabad, Bangalore/Bengaluru',\n",
       " '6-10 Yrs',\n",
       " 'Not disclosed',\n",
       " 'Mumbai, Bangalore/Bengaluru',\n",
       " '3-8 Yrs',\n",
       " 'Not disclosed',\n",
       " 'Chennai, Bangalore/Bengaluru, Mumbai (All Areas)',\n",
       " '3-6 Yrs',\n",
       " 'Not disclosed',\n",
       " 'India, Bangalore/Bengaluru, Mumbai (All Areas)',\n",
       " '6-8 Yrs',\n",
       " 'Not disclosed',\n",
       " 'Mumbai, Bangalore/Bengaluru',\n",
       " '3-8 Yrs',\n",
       " 'Not disclosed',\n",
       " 'Mumbai',\n",
       " '4-6 Yrs',\n",
       " 'Not disclosed',\n",
       " 'Bangalore/Bengaluru',\n",
       " '8-10 Yrs',\n",
       " '3,00,000 - 4,50,000 PA.',\n",
       " 'Noida, Nagpur, Bangalore/Bengaluru',\n",
       " '8-9 Yrs',\n",
       " '40,00,000 - 45,00,000 PA.',\n",
       " 'Bangalore/Bengaluru',\n",
       " '5-8 Yrs',\n",
       " 'Not disclosed',\n",
       " 'Bangalore/Bengaluru',\n",
       " '5-9 Yrs',\n",
       " 'Not disclosed',\n",
       " 'Bangalore/Bengaluru',\n",
       " '4-8 Yrs',\n",
       " 'Not disclosed',\n",
       " 'Bangalore/Bengaluru',\n",
       " '7-12 Yrs',\n",
       " 'Not disclosed',\n",
       " 'Pune, Chennai, Bangalore/Bengaluru',\n",
       " '0-2 Yrs',\n",
       " '50,000 - 1,50,000 PA.',\n",
       " 'Noida, Kolkata, Hyderabad/Secunderabad, Pune, Ahmedabad, Chennai, Bangalore/Bengaluru, Delhi / NCR, Mumbai (All Areas)']"
      ]
     },
     "execution_count": 71,
     "metadata": {},
     "output_type": "execute_result"
    }
   ],
   "source": [
    "Location"
   ]
  },
  {
   "cell_type": "code",
   "execution_count": 72,
   "id": "dac3df02",
   "metadata": {},
   "outputs": [],
   "source": [
    "driver.close()"
   ]
  },
  {
   "cell_type": "markdown",
   "id": "8c63ee82",
   "metadata": {},
   "source": [
    "# 8. Scrape the details of Highest selling novels."
   ]
  },
  {
   "cell_type": "code",
   "execution_count": 73,
   "id": "0349e344",
   "metadata": {},
   "outputs": [
    {
     "name": "stdout",
     "output_type": "stream",
     "text": [
      "Requirement already satisfied: bs4 in c:\\users\\hp\\anaconda3\\lib\\site-packages (0.0.1)\n",
      "Requirement already satisfied: beautifulsoup4 in c:\\users\\hp\\anaconda3\\lib\\site-packages (from bs4) (4.10.0)\n",
      "Requirement already satisfied: soupsieve>1.2 in c:\\users\\hp\\anaconda3\\lib\\site-packages (from beautifulsoup4->bs4) (2.2.1)\n",
      "Requirement already satisfied: requests in c:\\users\\hp\\anaconda3\\lib\\site-packages (2.26.0)\n",
      "Requirement already satisfied: charset-normalizer~=2.0.0 in c:\\users\\hp\\anaconda3\\lib\\site-packages (from requests) (2.0.4)\n",
      "Requirement already satisfied: urllib3<1.27,>=1.21.1 in c:\\users\\hp\\anaconda3\\lib\\site-packages (from requests) (1.26.7)\n",
      "Requirement already satisfied: idna<4,>=2.5 in c:\\users\\hp\\anaconda3\\lib\\site-packages (from requests) (3.2)\n",
      "Requirement already satisfied: certifi>=2017.4.17 in c:\\users\\hp\\anaconda3\\lib\\site-packages (from requests) (2021.10.8)\n",
      "Requirement already satisfied: selenium in c:\\users\\hp\\anaconda3\\lib\\site-packages (4.4.0)\n",
      "Requirement already satisfied: trio-websocket~=0.9 in c:\\users\\hp\\anaconda3\\lib\\site-packages (from selenium) (0.9.2)\n",
      "Requirement already satisfied: trio~=0.17 in c:\\users\\hp\\anaconda3\\lib\\site-packages (from selenium) (0.21.0)\n",
      "Requirement already satisfied: urllib3[secure,socks]~=1.26 in c:\\users\\hp\\anaconda3\\lib\\site-packages (from selenium) (1.26.7)\n",
      "Requirement already satisfied: cffi>=1.14 in c:\\users\\hp\\anaconda3\\lib\\site-packages (from trio~=0.17->selenium) (1.14.6)\n",
      "Requirement already satisfied: outcome in c:\\users\\hp\\anaconda3\\lib\\site-packages (from trio~=0.17->selenium) (1.2.0)\n",
      "Requirement already satisfied: async-generator>=1.9 in c:\\users\\hp\\anaconda3\\lib\\site-packages (from trio~=0.17->selenium) (1.10)\n",
      "Requirement already satisfied: idna in c:\\users\\hp\\anaconda3\\lib\\site-packages (from trio~=0.17->selenium) (3.2)\n",
      "Requirement already satisfied: sortedcontainers in c:\\users\\hp\\anaconda3\\lib\\site-packages (from trio~=0.17->selenium) (2.4.0)\n",
      "Requirement already satisfied: sniffio in c:\\users\\hp\\anaconda3\\lib\\site-packages (from trio~=0.17->selenium) (1.2.0)\n",
      "Requirement already satisfied: attrs>=19.2.0 in c:\\users\\hp\\anaconda3\\lib\\site-packages (from trio~=0.17->selenium) (21.2.0)\n",
      "Requirement already satisfied: pycparser in c:\\users\\hp\\anaconda3\\lib\\site-packages (from cffi>=1.14->trio~=0.17->selenium) (2.20)\n",
      "Requirement already satisfied: wsproto>=0.14 in c:\\users\\hp\\anaconda3\\lib\\site-packages (from trio-websocket~=0.9->selenium) (1.1.0)\n",
      "Requirement already satisfied: pyOpenSSL>=0.14 in c:\\users\\hp\\anaconda3\\lib\\site-packages (from urllib3[secure,socks]~=1.26->selenium) (21.0.0)\n",
      "Requirement already satisfied: cryptography>=1.3.4 in c:\\users\\hp\\anaconda3\\lib\\site-packages (from urllib3[secure,socks]~=1.26->selenium) (3.4.8)\n",
      "Requirement already satisfied: certifi in c:\\users\\hp\\anaconda3\\lib\\site-packages (from urllib3[secure,socks]~=1.26->selenium) (2021.10.8)\n",
      "Requirement already satisfied: PySocks!=1.5.7,<2.0,>=1.5.6 in c:\\users\\hp\\anaconda3\\lib\\site-packages (from urllib3[secure,socks]~=1.26->selenium) (1.7.1)\n",
      "Requirement already satisfied: six>=1.5.2 in c:\\users\\hp\\anaconda3\\lib\\site-packages (from pyOpenSSL>=0.14->urllib3[secure,socks]~=1.26->selenium) (1.16.0)\n",
      "Requirement already satisfied: h11<1,>=0.9.0 in c:\\users\\hp\\anaconda3\\lib\\site-packages (from wsproto>=0.14->trio-websocket~=0.9->selenium) (0.13.0)\n"
     ]
    }
   ],
   "source": [
    "!pip install bs4\n",
    "!pip install requests\n",
    "!pip install selenium"
   ]
  },
  {
   "cell_type": "code",
   "execution_count": 74,
   "id": "51296ca4",
   "metadata": {},
   "outputs": [],
   "source": [
    "import selenium\n",
    "import pandas as pd\n",
    "from selenium import webdriver\n",
    "import warnings\n",
    "warnings.filterwarnings('ignore')\n",
    "from selenium.common.exceptions import StaleElementReferenceException, NoSuchElementException\n",
    "from selenium.webdriver.common.by import By\n",
    "import time\n",
    "from bs4 import BeautifulSoup\n",
    "import requests"
   ]
  },
  {
   "cell_type": "code",
   "execution_count": 75,
   "id": "6b58b2af",
   "metadata": {},
   "outputs": [],
   "source": [
    "driver=webdriver.Chrome(r\"C:\\Users\\hp\\Downloads\\zipfile\\chromedriver.exe\")"
   ]
  },
  {
   "cell_type": "code",
   "execution_count": 77,
   "id": "ca285b75",
   "metadata": {},
   "outputs": [],
   "source": [
    "driver.get(\"https://www.theguardian.com/news/datablog/2012/aug/09/best-selling-books-all-time-fifty-shades-grey- compare/\")"
   ]
  },
  {
   "cell_type": "code",
   "execution_count": 79,
   "id": "0e9d520a",
   "metadata": {},
   "outputs": [],
   "source": [
    "Click=driver.find_element(By.XPATH,'/html/body/div[1]/header/nav/div[2]/a')\n",
    "Click.click()"
   ]
  },
  {
   "cell_type": "code",
   "execution_count": 80,
   "id": "57d3f37d",
   "metadata": {},
   "outputs": [],
   "source": [
    "search=driver.find_element(By.XPATH,'/html/body/div[1]/header/nav/div[3]/div/div[1]/div/form/table/tbody/tr/td[1]/div/table/tbody/tr/td[1]/input')\n",
    "search.send_keys(\"Highest selling novels\")"
   ]
  },
  {
   "cell_type": "code",
   "execution_count": 81,
   "id": "048e06b1",
   "metadata": {},
   "outputs": [],
   "source": [
    "go=driver.find_element(By.XPATH,'/html/body/div[1]/header/nav/div[3]/div/div[1]/div/form/table/tbody/tr/td[2]/button')\n",
    "go.click()"
   ]
  },
  {
   "cell_type": "code",
   "execution_count": 82,
   "id": "57ed3aff",
   "metadata": {},
   "outputs": [],
   "source": [
    "find=driver.find_element(By.XPATH,'/html/body/div[1]/header/nav/div[3]/div/div[2]/div/div/div/div/div[5]/div[2]/div/div/div[1]/div[1]/div[1]/div[1]/div/a')\n",
    "find.click()"
   ]
  },
  {
   "cell_type": "code",
   "execution_count": 85,
   "id": "af3918a1",
   "metadata": {},
   "outputs": [],
   "source": [
    "book_name=[]\n",
    "book=driver.find_elements(By.XPATH,'//table[@class=\"in-article sortable\"]/tbody/tr/td[2]')\n",
    "for i in book:\n",
    "    book=i.text\n",
    "    book_name.append(book)"
   ]
  },
  {
   "cell_type": "code",
   "execution_count": 86,
   "id": "e2f914b1",
   "metadata": {},
   "outputs": [
    {
     "data": {
      "text/plain": [
       "['Da Vinci Code,The',\n",
       " 'Harry Potter and the Deathly Hallows',\n",
       " \"Harry Potter and the Philosopher's Stone\",\n",
       " 'Harry Potter and the Order of the Phoenix',\n",
       " 'Fifty Shades of Grey',\n",
       " 'Harry Potter and the Goblet of Fire',\n",
       " 'Harry Potter and the Chamber of Secrets',\n",
       " 'Harry Potter and the Prisoner of Azkaban',\n",
       " 'Angels and Demons',\n",
       " \"Harry Potter and the Half-blood Prince:Children's Edition\",\n",
       " 'Fifty Shades Darker',\n",
       " 'Twilight',\n",
       " 'Girl with the Dragon Tattoo,The:Millennium Trilogy',\n",
       " 'Fifty Shades Freed',\n",
       " 'Lost Symbol,The',\n",
       " 'New Moon',\n",
       " 'Deception Point',\n",
       " 'Eclipse',\n",
       " 'Lovely Bones,The',\n",
       " 'Curious Incident of the Dog in the Night-time,The',\n",
       " 'Digital Fortress',\n",
       " 'Short History of Nearly Everything,A',\n",
       " 'Girl Who Played with Fire,The:Millennium Trilogy',\n",
       " 'Breaking Dawn',\n",
       " 'Very Hungry Caterpillar,The:The Very Hungry Caterpillar',\n",
       " 'Gruffalo,The',\n",
       " \"Jamie's 30-Minute Meals\",\n",
       " 'Kite Runner,The',\n",
       " 'One Day',\n",
       " 'Thousand Splendid Suns,A',\n",
       " \"Girl Who Kicked the Hornets' Nest,The:Millennium Trilogy\",\n",
       " \"Time Traveler's Wife,The\",\n",
       " 'Atonement',\n",
       " \"Bridget Jones's Diary:A Novel\",\n",
       " 'World According to Clarkson,The',\n",
       " \"Captain Corelli's Mandolin\",\n",
       " 'Sound of Laughter,The',\n",
       " 'Life of Pi',\n",
       " 'Billy Connolly',\n",
       " 'Child Called It,A',\n",
       " \"Gruffalo's Child,The\",\n",
       " \"Angela's Ashes:A Memoir of a Childhood\",\n",
       " 'Birdsong',\n",
       " 'Northern Lights:His Dark Materials S.',\n",
       " 'Labyrinth',\n",
       " 'Harry Potter and the Half-blood Prince',\n",
       " 'Help,The',\n",
       " 'Man and Boy',\n",
       " 'Memoirs of a Geisha',\n",
       " \"No.1 Ladies' Detective Agency,The:No.1 Ladies' Detective Agency S.\",\n",
       " 'Island,The',\n",
       " 'PS, I Love You',\n",
       " 'You are What You Eat:The Plan That Will Change Your Life',\n",
       " 'Shadow of the Wind,The',\n",
       " 'Tales of Beedle the Bard,The',\n",
       " 'Broker,The',\n",
       " \"Dr. Atkins' New Diet Revolution:The No-hunger, Luxurious Weight Loss P\",\n",
       " 'Subtle Knife,The:His Dark Materials S.',\n",
       " 'Eats, Shoots and Leaves:The Zero Tolerance Approach to Punctuation',\n",
       " \"Delia's How to Cook:(Bk.1)\",\n",
       " 'Chocolat',\n",
       " 'Boy in the Striped Pyjamas,The',\n",
       " \"My Sister's Keeper\",\n",
       " 'Amber Spyglass,The:His Dark Materials S.',\n",
       " 'To Kill a Mockingbird',\n",
       " 'Men are from Mars, Women are from Venus:A Practical Guide for Improvin',\n",
       " 'Dear Fatty',\n",
       " 'Short History of Tractors in Ukrainian,A',\n",
       " 'Hannibal',\n",
       " 'Lord of the Rings,The',\n",
       " 'Stupid White Men:...and Other Sorry Excuses for the State of the Natio',\n",
       " 'Interpretation of Murder,The',\n",
       " 'Sharon Osbourne Extreme:My Autobiography',\n",
       " 'Alchemist,The:A Fable About Following Your Dream',\n",
       " \"At My Mother's Knee ...:and Other Low Joints\",\n",
       " 'Notes from a Small Island',\n",
       " 'Return of the Naked Chef,The',\n",
       " 'Bridget Jones: The Edge of Reason',\n",
       " \"Jamie's Italy\",\n",
       " 'I Can Make You Thin',\n",
       " 'Down Under',\n",
       " 'Summons,The',\n",
       " 'Small Island',\n",
       " 'Nigella Express',\n",
       " 'Brick Lane',\n",
       " \"Memory Keeper's Daughter,The\",\n",
       " 'Room on the Broom',\n",
       " 'About a Boy',\n",
       " 'My Booky Wook',\n",
       " 'God Delusion,The',\n",
       " '\"Beano\" Annual,The',\n",
       " 'White Teeth',\n",
       " 'House at Riverton,The',\n",
       " 'Book Thief,The',\n",
       " 'Nights of Rain and Stars',\n",
       " 'Ghost,The',\n",
       " 'Happy Days with the Naked Chef',\n",
       " 'Hunger Games,The:Hunger Games Trilogy',\n",
       " \"Lost Boy,The:A Foster Child's Search for the Love of a Family\",\n",
       " \"Jamie's Ministry of Food:Anyone Can Learn to Cook in 24 Hours\"]"
      ]
     },
     "execution_count": 86,
     "metadata": {},
     "output_type": "execute_result"
    }
   ],
   "source": [
    "book_name"
   ]
  },
  {
   "cell_type": "code",
   "execution_count": 87,
   "id": "d2ac2d6d",
   "metadata": {},
   "outputs": [],
   "source": [
    "Author=[]\n",
    "author=driver.find_elements(By.XPATH,'//table[@class=\"in-article sortable\"]/tbody/tr/td[3]')\n",
    "for i in author:\n",
    "    author=i.text\n",
    "    Author.append(author)\n",
    "Sold=[]\n",
    "sold=driver.find_elements(By.XPATH,'//table[@class=\"in-article sortable\"]/tbody/tr/td[4]')\n",
    "for i in sold:\n",
    "    sold=i.text\n",
    "    Sold.append(sold)\n",
    "Publisher=[]\n",
    "pub=driver.find_elements(By.XPATH,'//table[@class=\"in-article sortable\"]/tbody/tr/td[5]')\n",
    "for i in pub:\n",
    "    pub=i.text\n",
    "    Publisher.append(pub)\n",
    "Gener=[]\n",
    "gener=driver.find_elements(By.XPATH,'//table[@class=\"in-article sortable\"]/tbody/tr/td[6]')\n",
    "for i in gener:\n",
    "    gener=i.text\n",
    "    Gener.append(gener)"
   ]
  },
  {
   "cell_type": "code",
   "execution_count": 88,
   "id": "187e3b90",
   "metadata": {},
   "outputs": [
    {
     "data": {
      "text/html": [
       "<div>\n",
       "<style scoped>\n",
       "    .dataframe tbody tr th:only-of-type {\n",
       "        vertical-align: middle;\n",
       "    }\n",
       "\n",
       "    .dataframe tbody tr th {\n",
       "        vertical-align: top;\n",
       "    }\n",
       "\n",
       "    .dataframe thead th {\n",
       "        text-align: right;\n",
       "    }\n",
       "</style>\n",
       "<table border=\"1\" class=\"dataframe\">\n",
       "  <thead>\n",
       "    <tr style=\"text-align: right;\">\n",
       "      <th></th>\n",
       "      <th>Book_name</th>\n",
       "      <th>Author</th>\n",
       "      <th>Sold</th>\n",
       "      <th>Publisher</th>\n",
       "      <th>Gener</th>\n",
       "    </tr>\n",
       "  </thead>\n",
       "  <tbody>\n",
       "    <tr>\n",
       "      <th>0</th>\n",
       "      <td>Da Vinci Code,The</td>\n",
       "      <td>Brown, Dan</td>\n",
       "      <td>5,094,805</td>\n",
       "      <td>Transworld</td>\n",
       "      <td>Crime, Thriller &amp; Adventure</td>\n",
       "    </tr>\n",
       "    <tr>\n",
       "      <th>1</th>\n",
       "      <td>Harry Potter and the Deathly Hallows</td>\n",
       "      <td>Rowling, J.K.</td>\n",
       "      <td>4,475,152</td>\n",
       "      <td>Bloomsbury</td>\n",
       "      <td>Children's Fiction</td>\n",
       "    </tr>\n",
       "    <tr>\n",
       "      <th>2</th>\n",
       "      <td>Harry Potter and the Philosopher's Stone</td>\n",
       "      <td>Rowling, J.K.</td>\n",
       "      <td>4,200,654</td>\n",
       "      <td>Bloomsbury</td>\n",
       "      <td>Children's Fiction</td>\n",
       "    </tr>\n",
       "    <tr>\n",
       "      <th>3</th>\n",
       "      <td>Harry Potter and the Order of the Phoenix</td>\n",
       "      <td>Rowling, J.K.</td>\n",
       "      <td>4,179,479</td>\n",
       "      <td>Bloomsbury</td>\n",
       "      <td>Children's Fiction</td>\n",
       "    </tr>\n",
       "    <tr>\n",
       "      <th>4</th>\n",
       "      <td>Fifty Shades of Grey</td>\n",
       "      <td>James, E. L.</td>\n",
       "      <td>3,758,936</td>\n",
       "      <td>Random House</td>\n",
       "      <td>Romance &amp; Sagas</td>\n",
       "    </tr>\n",
       "    <tr>\n",
       "      <th>...</th>\n",
       "      <td>...</td>\n",
       "      <td>...</td>\n",
       "      <td>...</td>\n",
       "      <td>...</td>\n",
       "      <td>...</td>\n",
       "    </tr>\n",
       "    <tr>\n",
       "      <th>95</th>\n",
       "      <td>Ghost,The</td>\n",
       "      <td>Harris, Robert</td>\n",
       "      <td>807,311</td>\n",
       "      <td>Random House</td>\n",
       "      <td>General &amp; Literary Fiction</td>\n",
       "    </tr>\n",
       "    <tr>\n",
       "      <th>96</th>\n",
       "      <td>Happy Days with the Naked Chef</td>\n",
       "      <td>Oliver, Jamie</td>\n",
       "      <td>794,201</td>\n",
       "      <td>Penguin</td>\n",
       "      <td>Food &amp; Drink: General</td>\n",
       "    </tr>\n",
       "    <tr>\n",
       "      <th>97</th>\n",
       "      <td>Hunger Games,The:Hunger Games Trilogy</td>\n",
       "      <td>Collins, Suzanne</td>\n",
       "      <td>792,187</td>\n",
       "      <td>Scholastic Ltd.</td>\n",
       "      <td>Young Adult Fiction</td>\n",
       "    </tr>\n",
       "    <tr>\n",
       "      <th>98</th>\n",
       "      <td>Lost Boy,The:A Foster Child's Search for the L...</td>\n",
       "      <td>Pelzer, Dave</td>\n",
       "      <td>791,507</td>\n",
       "      <td>Orion</td>\n",
       "      <td>Biography: General</td>\n",
       "    </tr>\n",
       "    <tr>\n",
       "      <th>99</th>\n",
       "      <td>Jamie's Ministry of Food:Anyone Can Learn to C...</td>\n",
       "      <td>Oliver, Jamie</td>\n",
       "      <td>791,095</td>\n",
       "      <td>Penguin</td>\n",
       "      <td>Food &amp; Drink: General</td>\n",
       "    </tr>\n",
       "  </tbody>\n",
       "</table>\n",
       "<p>100 rows × 5 columns</p>\n",
       "</div>"
      ],
      "text/plain": [
       "                                            Book_name            Author  \\\n",
       "0                                   Da Vinci Code,The        Brown, Dan   \n",
       "1                Harry Potter and the Deathly Hallows     Rowling, J.K.   \n",
       "2            Harry Potter and the Philosopher's Stone     Rowling, J.K.   \n",
       "3           Harry Potter and the Order of the Phoenix     Rowling, J.K.   \n",
       "4                                Fifty Shades of Grey      James, E. L.   \n",
       "..                                                ...               ...   \n",
       "95                                          Ghost,The    Harris, Robert   \n",
       "96                     Happy Days with the Naked Chef     Oliver, Jamie   \n",
       "97              Hunger Games,The:Hunger Games Trilogy  Collins, Suzanne   \n",
       "98  Lost Boy,The:A Foster Child's Search for the L...      Pelzer, Dave   \n",
       "99  Jamie's Ministry of Food:Anyone Can Learn to C...     Oliver, Jamie   \n",
       "\n",
       "         Sold        Publisher                        Gener  \n",
       "0   5,094,805       Transworld  Crime, Thriller & Adventure  \n",
       "1   4,475,152       Bloomsbury           Children's Fiction  \n",
       "2   4,200,654       Bloomsbury           Children's Fiction  \n",
       "3   4,179,479       Bloomsbury           Children's Fiction  \n",
       "4   3,758,936     Random House              Romance & Sagas  \n",
       "..        ...              ...                          ...  \n",
       "95    807,311     Random House   General & Literary Fiction  \n",
       "96    794,201          Penguin        Food & Drink: General  \n",
       "97    792,187  Scholastic Ltd.          Young Adult Fiction  \n",
       "98    791,507            Orion           Biography: General  \n",
       "99    791,095          Penguin        Food & Drink: General  \n",
       "\n",
       "[100 rows x 5 columns]"
      ]
     },
     "execution_count": 88,
     "metadata": {},
     "output_type": "execute_result"
    }
   ],
   "source": [
    "df=pd.DataFrame({\"Book_name\":book_name,\"Author\":Author,\"Sold\":Sold,\"Publisher\":Publisher,\"Gener\":Gener})\n",
    "df"
   ]
  },
  {
   "cell_type": "code",
   "execution_count": 89,
   "id": "b08e6d02",
   "metadata": {},
   "outputs": [],
   "source": [
    "driver.close()"
   ]
  },
  {
   "cell_type": "markdown",
   "id": "aea36781",
   "metadata": {},
   "source": [
    "# 9. Scrape the details most watched tv series of all time from imdb.com."
   ]
  },
  {
   "cell_type": "code",
   "execution_count": 90,
   "id": "46bb5e4e",
   "metadata": {},
   "outputs": [
    {
     "name": "stdout",
     "output_type": "stream",
     "text": [
      "Requirement already satisfied: bs4 in c:\\users\\hp\\anaconda3\\lib\\site-packages (0.0.1)\n",
      "Requirement already satisfied: beautifulsoup4 in c:\\users\\hp\\anaconda3\\lib\\site-packages (from bs4) (4.10.0)\n",
      "Requirement already satisfied: soupsieve>1.2 in c:\\users\\hp\\anaconda3\\lib\\site-packages (from beautifulsoup4->bs4) (2.2.1)\n",
      "Requirement already satisfied: requests in c:\\users\\hp\\anaconda3\\lib\\site-packages (2.26.0)\n",
      "Requirement already satisfied: urllib3<1.27,>=1.21.1 in c:\\users\\hp\\anaconda3\\lib\\site-packages (from requests) (1.26.7)\n",
      "Requirement already satisfied: idna<4,>=2.5 in c:\\users\\hp\\anaconda3\\lib\\site-packages (from requests) (3.2)\n",
      "Requirement already satisfied: certifi>=2017.4.17 in c:\\users\\hp\\anaconda3\\lib\\site-packages (from requests) (2021.10.8)\n",
      "Requirement already satisfied: charset-normalizer~=2.0.0 in c:\\users\\hp\\anaconda3\\lib\\site-packages (from requests) (2.0.4)\n",
      "Requirement already satisfied: selenium in c:\\users\\hp\\anaconda3\\lib\\site-packages (4.4.0)\n",
      "Requirement already satisfied: trio-websocket~=0.9 in c:\\users\\hp\\anaconda3\\lib\\site-packages (from selenium) (0.9.2)\n",
      "Requirement already satisfied: urllib3[secure,socks]~=1.26 in c:\\users\\hp\\anaconda3\\lib\\site-packages (from selenium) (1.26.7)\n",
      "Requirement already satisfied: trio~=0.17 in c:\\users\\hp\\anaconda3\\lib\\site-packages (from selenium) (0.21.0)\n",
      "Requirement already satisfied: sniffio in c:\\users\\hp\\anaconda3\\lib\\site-packages (from trio~=0.17->selenium) (1.2.0)\n",
      "Requirement already satisfied: idna in c:\\users\\hp\\anaconda3\\lib\\site-packages (from trio~=0.17->selenium) (3.2)\n",
      "Requirement already satisfied: async-generator>=1.9 in c:\\users\\hp\\anaconda3\\lib\\site-packages (from trio~=0.17->selenium) (1.10)\n",
      "Requirement already satisfied: outcome in c:\\users\\hp\\anaconda3\\lib\\site-packages (from trio~=0.17->selenium) (1.2.0)\n",
      "Requirement already satisfied: sortedcontainers in c:\\users\\hp\\anaconda3\\lib\\site-packages (from trio~=0.17->selenium) (2.4.0)\n",
      "Requirement already satisfied: attrs>=19.2.0 in c:\\users\\hp\\anaconda3\\lib\\site-packages (from trio~=0.17->selenium) (21.2.0)\n",
      "Requirement already satisfied: cffi>=1.14 in c:\\users\\hp\\anaconda3\\lib\\site-packages (from trio~=0.17->selenium) (1.14.6)\n",
      "Requirement already satisfied: pycparser in c:\\users\\hp\\anaconda3\\lib\\site-packages (from cffi>=1.14->trio~=0.17->selenium) (2.20)\n",
      "Requirement already satisfied: wsproto>=0.14 in c:\\users\\hp\\anaconda3\\lib\\site-packages (from trio-websocket~=0.9->selenium) (1.1.0)\n",
      "Requirement already satisfied: pyOpenSSL>=0.14 in c:\\users\\hp\\anaconda3\\lib\\site-packages (from urllib3[secure,socks]~=1.26->selenium) (21.0.0)\n",
      "Requirement already satisfied: cryptography>=1.3.4 in c:\\users\\hp\\anaconda3\\lib\\site-packages (from urllib3[secure,socks]~=1.26->selenium) (3.4.8)\n",
      "Requirement already satisfied: certifi in c:\\users\\hp\\anaconda3\\lib\\site-packages (from urllib3[secure,socks]~=1.26->selenium) (2021.10.8)\n",
      "Requirement already satisfied: PySocks!=1.5.7,<2.0,>=1.5.6 in c:\\users\\hp\\anaconda3\\lib\\site-packages (from urllib3[secure,socks]~=1.26->selenium) (1.7.1)\n",
      "Requirement already satisfied: six>=1.5.2 in c:\\users\\hp\\anaconda3\\lib\\site-packages (from pyOpenSSL>=0.14->urllib3[secure,socks]~=1.26->selenium) (1.16.0)\n",
      "Requirement already satisfied: h11<1,>=0.9.0 in c:\\users\\hp\\anaconda3\\lib\\site-packages (from wsproto>=0.14->trio-websocket~=0.9->selenium) (0.13.0)\n"
     ]
    }
   ],
   "source": [
    "!pip install bs4\n",
    "!pip install requests\n",
    "!pip install selenium"
   ]
  },
  {
   "cell_type": "code",
   "execution_count": 91,
   "id": "27c21006",
   "metadata": {},
   "outputs": [],
   "source": [
    "import selenium\n",
    "import pandas as pd\n",
    "from selenium import webdriver\n",
    "import warnings\n",
    "warnings.filterwarnings('ignore')\n",
    "from selenium.common.exceptions import StaleElementReferenceException, NoSuchElementException\n",
    "from selenium.webdriver.common.by import By\n",
    "import time\n",
    "from bs4 import BeautifulSoup\n",
    "import requests"
   ]
  },
  {
   "cell_type": "code",
   "execution_count": 92,
   "id": "e3333d44",
   "metadata": {},
   "outputs": [],
   "source": [
    "driver=webdriver.Chrome(r\"C:\\Users\\hp\\Downloads\\zipfile\\chromedriver.exe\")"
   ]
  },
  {
   "cell_type": "code",
   "execution_count": 93,
   "id": "ec611ce4",
   "metadata": {},
   "outputs": [],
   "source": [
    "driver.get(\"https://www.imdb.com/list/ls095964455/\")"
   ]
  },
  {
   "cell_type": "code",
   "execution_count": 94,
   "id": "de751a0b",
   "metadata": {},
   "outputs": [],
   "source": [
    "Name=[]\n",
    "name=driver.find_elements(By.XPATH,'//span[@class=\"lister-item-index unbold text-primary\"]')\n",
    "for i in name:\n",
    "    name=i.text\n",
    "    Name.append(name)\n",
    "Year=[]\n",
    "year=driver.find_elements(By.XPATH,'//span[@class=\"lister-item-year text-muted unbold\"]')\n",
    "for i in year:\n",
    "    year=i.text\n",
    "    Year.append(year)\n",
    "Genre=[]\n",
    "genre=driver.find_elements(By.XPATH,'//span[@class=\"genre\"]')\n",
    "for i in genre:\n",
    "    genre=i.text\n",
    "    Genre.append(genre)\n",
    "run_time=[]\n",
    "time=driver.find_elements(By.XPATH,'//span[@class=\"runtime\"]')\n",
    "for i in time:\n",
    "    time=i.text\n",
    "    run_time.append(time)\n",
    "ratings=[]\n",
    "rating=driver.find_elements(By.XPATH,'//div[@class=\"ipl-rating-star small\"]/span[2]')\n",
    "for i in rating:\n",
    "    rating=i.text\n",
    "    ratings.append(time)\n",
    "\n"
   ]
  },
  {
   "cell_type": "code",
   "execution_count": 96,
   "id": "80d41ae5",
   "metadata": {},
   "outputs": [
    {
     "data": {
      "text/html": [
       "<div>\n",
       "<style scoped>\n",
       "    .dataframe tbody tr th:only-of-type {\n",
       "        vertical-align: middle;\n",
       "    }\n",
       "\n",
       "    .dataframe tbody tr th {\n",
       "        vertical-align: top;\n",
       "    }\n",
       "\n",
       "    .dataframe thead th {\n",
       "        text-align: right;\n",
       "    }\n",
       "</style>\n",
       "<table border=\"1\" class=\"dataframe\">\n",
       "  <thead>\n",
       "    <tr style=\"text-align: right;\">\n",
       "      <th></th>\n",
       "      <th>Name</th>\n",
       "      <th>Year</th>\n",
       "      <th>Genre</th>\n",
       "      <th>run_time</th>\n",
       "      <th>rating</th>\n",
       "    </tr>\n",
       "  </thead>\n",
       "  <tbody>\n",
       "    <tr>\n",
       "      <th>0</th>\n",
       "      <td>1.</td>\n",
       "      <td>(2011–2019)</td>\n",
       "      <td>Action, Adventure, Drama</td>\n",
       "      <td>57 min</td>\n",
       "      <td>572 min</td>\n",
       "    </tr>\n",
       "    <tr>\n",
       "      <th>1</th>\n",
       "      <td>2.</td>\n",
       "      <td>(2016– )</td>\n",
       "      <td>Drama, Fantasy, Horror</td>\n",
       "      <td>51 min</td>\n",
       "      <td>572 min</td>\n",
       "    </tr>\n",
       "    <tr>\n",
       "      <th>2</th>\n",
       "      <td>3.</td>\n",
       "      <td>(2010–2022)</td>\n",
       "      <td>Drama, Horror, Thriller</td>\n",
       "      <td>44 min</td>\n",
       "      <td>572 min</td>\n",
       "    </tr>\n",
       "    <tr>\n",
       "      <th>3</th>\n",
       "      <td>4.</td>\n",
       "      <td>(2017–2020)</td>\n",
       "      <td>Drama, Mystery, Thriller</td>\n",
       "      <td>60 min</td>\n",
       "      <td>572 min</td>\n",
       "    </tr>\n",
       "    <tr>\n",
       "      <th>4</th>\n",
       "      <td>5.</td>\n",
       "      <td>(2014–2020)</td>\n",
       "      <td>Drama, Mystery, Sci-Fi</td>\n",
       "      <td>43 min</td>\n",
       "      <td>572 min</td>\n",
       "    </tr>\n",
       "    <tr>\n",
       "      <th>...</th>\n",
       "      <td>...</td>\n",
       "      <td>...</td>\n",
       "      <td>...</td>\n",
       "      <td>...</td>\n",
       "      <td>...</td>\n",
       "    </tr>\n",
       "    <tr>\n",
       "      <th>95</th>\n",
       "      <td>96.</td>\n",
       "      <td>(2013–2017)</td>\n",
       "      <td>Drama</td>\n",
       "      <td>42 min</td>\n",
       "      <td>572 min</td>\n",
       "    </tr>\n",
       "    <tr>\n",
       "      <th>96</th>\n",
       "      <td>97.</td>\n",
       "      <td>(2017–2019)</td>\n",
       "      <td>Adventure, Comedy, Drama</td>\n",
       "      <td>50 min</td>\n",
       "      <td>572 min</td>\n",
       "    </tr>\n",
       "    <tr>\n",
       "      <th>97</th>\n",
       "      <td>98.</td>\n",
       "      <td>(2005–2020)</td>\n",
       "      <td>Crime, Drama, Mystery</td>\n",
       "      <td>42 min</td>\n",
       "      <td>572 min</td>\n",
       "    </tr>\n",
       "    <tr>\n",
       "      <th>98</th>\n",
       "      <td>99.</td>\n",
       "      <td>(2015–2019)</td>\n",
       "      <td>Comedy, Crime, Drama</td>\n",
       "      <td>45 min</td>\n",
       "      <td>572 min</td>\n",
       "    </tr>\n",
       "    <tr>\n",
       "      <th>99</th>\n",
       "      <td>100.</td>\n",
       "      <td>(2018)</td>\n",
       "      <td>Drama, Horror, Mystery</td>\n",
       "      <td>572 min</td>\n",
       "      <td>572 min</td>\n",
       "    </tr>\n",
       "  </tbody>\n",
       "</table>\n",
       "<p>100 rows × 5 columns</p>\n",
       "</div>"
      ],
      "text/plain": [
       "    Name         Year                     Genre run_time   rating\n",
       "0     1.  (2011–2019)  Action, Adventure, Drama   57 min  572 min\n",
       "1     2.     (2016– )    Drama, Fantasy, Horror   51 min  572 min\n",
       "2     3.  (2010–2022)   Drama, Horror, Thriller   44 min  572 min\n",
       "3     4.  (2017–2020)  Drama, Mystery, Thriller   60 min  572 min\n",
       "4     5.  (2014–2020)    Drama, Mystery, Sci-Fi   43 min  572 min\n",
       "..   ...          ...                       ...      ...      ...\n",
       "95   96.  (2013–2017)                     Drama   42 min  572 min\n",
       "96   97.  (2017–2019)  Adventure, Comedy, Drama   50 min  572 min\n",
       "97   98.  (2005–2020)     Crime, Drama, Mystery   42 min  572 min\n",
       "98   99.  (2015–2019)      Comedy, Crime, Drama   45 min  572 min\n",
       "99  100.       (2018)    Drama, Horror, Mystery  572 min  572 min\n",
       "\n",
       "[100 rows x 5 columns]"
      ]
     },
     "execution_count": 96,
     "metadata": {},
     "output_type": "execute_result"
    }
   ],
   "source": [
    "df=pd.DataFrame({\"Name\":Name,\"Year\":Year,\"Genre\":Genre,\"run_time\":run_time,\"rating\":ratings})\n",
    "df"
   ]
  },
  {
   "cell_type": "code",
   "execution_count": null,
   "id": "b0158b03",
   "metadata": {},
   "outputs": [],
   "source": []
  },
  {
   "cell_type": "code",
   "execution_count": null,
   "id": "41ba10ce",
   "metadata": {},
   "outputs": [],
   "source": []
  },
  {
   "cell_type": "code",
   "execution_count": null,
   "id": "58127274",
   "metadata": {},
   "outputs": [],
   "source": []
  },
  {
   "cell_type": "code",
   "execution_count": null,
   "id": "65ff901e",
   "metadata": {},
   "outputs": [],
   "source": []
  },
  {
   "cell_type": "code",
   "execution_count": null,
   "id": "0be06210",
   "metadata": {},
   "outputs": [],
   "source": []
  }
 ],
 "metadata": {
  "kernelspec": {
   "display_name": "Python 3 (ipykernel)",
   "language": "python",
   "name": "python3"
  },
  "language_info": {
   "codemirror_mode": {
    "name": "ipython",
    "version": 3
   },
   "file_extension": ".py",
   "mimetype": "text/x-python",
   "name": "python",
   "nbconvert_exporter": "python",
   "pygments_lexer": "ipython3",
   "version": "3.9.7"
  }
 },
 "nbformat": 4,
 "nbformat_minor": 5
}
